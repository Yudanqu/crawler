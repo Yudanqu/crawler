{
 "cells": [
  {
   "cell_type": "markdown",
   "metadata": {},
   "source": [
    "# 1网络爬虫之规则"
   ]
  },
  {
   "cell_type": "markdown",
   "metadata": {},
   "source": [
    "## 1.1requests库入门"
   ]
  },
  {
   "cell_type": "markdown",
   "metadata": {},
   "source": [
    "requests库的7个主要方法：  \n",
    "requests.request()  get()  head()  post()  put()  patch()  delete()"
   ]
  },
  {
   "cell_type": "code",
   "execution_count": 1,
   "metadata": {},
   "outputs": [],
   "source": [
    "import requests"
   ]
  },
  {
   "cell_type": "code",
   "execution_count": 2,
   "metadata": {},
   "outputs": [
    {
     "data": {
      "text/plain": [
       "200"
      ]
     },
     "execution_count": 2,
     "metadata": {},
     "output_type": "execute_result"
    }
   ],
   "source": [
    "r = requests.get(\"https://www.icourse163.org/home.htm?userId=1021614219#/home/course\")\n",
    "r.status_code  # http请求的返回状态"
   ]
  },
  {
   "cell_type": "code",
   "execution_count": 3,
   "metadata": {},
   "outputs": [
    {
     "name": "stdout",
     "output_type": "stream",
     "text": [
      "UTF-8\n",
      "utf-8\n"
     ]
    }
   ],
   "source": [
    "print(r.encoding)  # 从HTTPheader中猜测的响应内容编码方式\n",
    "print(r.apparent_encoding)  # 从内容分析出响应内容编码方式（备选编码方式）"
   ]
  },
  {
   "cell_type": "markdown",
   "metadata": {},
   "source": [
    "有些服务器在http请求的header中提供了charset字段，就是对内容的编码格式要求。如果没有的话，在获取网页信息的时候会默认其为IOS-8859-1格式，就需要从内容中获取编码格式并替换到使用的格式当中"
   ]
  },
  {
   "cell_type": "markdown",
   "metadata": {},
   "source": [
    "例：r.encoding = 'utf-8'或者r.encoding = r.apparent_encoding"
   ]
  },
  {
   "cell_type": "code",
   "execution_count": 4,
   "metadata": {},
   "outputs": [
    {
     "data": {
      "text/plain": [
       "'<!DOCTYPE html>\\n<html xmlns=\"//www.w3.org/1999/xhtml\" xml:lang=\"zh\" lang=\"zh\">\\n<head>\\n<title>中国大学MOOC(慕课)_优质在线课程学习平台</title>\\n<meta http-equiv=\"content-type\" content=\"text/html;charset=utf-8\"/>\\n<link rel=\"shortcut icon\" href=\"//edu-image.nosdn.127.net/32a8dd2a-b9aa-4ec9-abd5-66cd8751befb.png?imageView&quality=100\" />\\n<meta http-equiv=\"x-dns-prefetch-control\" content=\"on\"/>\\n<meta http-equiv=\"Content-Security-Policy\" content=\"upgrade-insecure-requests\">\\n<link rel=\"dns-prefetch\" href=\"//s.stu.126.net\"/>\\n<link rel=\"dns-prefetch\" href=\"//icourse163.org/\"/>\\n<link rel=\"dns-prefetch\" href=\"//mc.stu.126.net\"/>\\n<link rel=\"dns-prefetch\" href=\"//mooc.study.163.com\"/>\\n<link rel=\"dns-prefetch\" href=\"//webzj.reg.163.com\"/>\\n<link rel=\"dns-prefetch\" href=\"//ursdoccdn.nosdn.127.net/\"/>\\n<link rel=\"dns-prefetch\" href=\"//nos.netease.com\"/>\\n<link rel=\"dns-prefetch\" href=\"//imgsize.ph.126.net\"/>\\n<link rel=\"dns-prefetch\" href=\"//img-ph-mirror.nosdn.127.net\"/>\\n<link rel=\"dns-prefetch\" href=\"//img-ph-mirror.nosdn.127.net\"/>\\n<link rel=\"dns-prefetch\" href=\"//img-ph-mirror.nosdn.127.net\"/>\\n<link rel=\"dns-prefetch\" href=\"//push.zhanzhang.baidu.com\"/>\\n<link rel=\"dns-prefetch\" href=\"//api.share.baidu.com\"/>\\n<link rel=\"dns-prefetch\" href=\"//js.passport.qihucdn.com\"/>\\n<link rel=\"dns-prefetch\" href=\"//s2.qhimg.com\"/>\\n<meta http-equiv=\"Pragma\" content=\"no-cache\"/>\\n<meta http-equiv=\"Cache-Control\" content=\"no-cache\" max-age=\"0\"/>\\n<meta http-equiv=\"X-UA-Compatible\" content=\"IE=edge\" />\\n<meta http-equiv=\"Expires\" content=\"0\"/>\\n<meta name=\"author\" content=\"Netease\"/>\\n<meta name=\"version\" content=\"1.0\"/>\\n<meta name=\"keywords\" content=\"中国大学MOOC,MOOC,慕课,在线学习,在线教育,大规模开放式在线课程,网络公开课,视频公开课,大学公开课,大学mooc, icourse163,慕课网, MOOC学院\"/>\\n<meta name=\"description\" content=\"中国大学MOOC(慕课) 是爱课程网携手网易云课堂打造的在线学习平台，每一个有提升愿望的人，都可以在这里学习中国优质的大学课程，学完还能获得认证证书。中国大学MOOC是国内优质的中文MOOC学习平台，拥有众多985高校的大学课程，与名师零距离。\"/>\\n<meta name=\"robots\" content=\"all\"/>\\n<meta name=\"360-site-verification\" content=\"92d0cfcc97ca254f26fcc0586fa319b6\" />\\n<meta name=\"sogou_site_verification\" content=\"kFeGWcT6tD\"/>\\n<meta name=\"baidu-site-verification\" content=\"BYFmFBILbh\" />\\n<meta name=\"shenma-site-verification\" content=\"8ef752d11066ef909303c078d32230d6_1456214698\">\\n<meta property=\"wb:webmaster\" content=\"981d7778ffe598a6\" />\\n<meta property=\"qc:admins\" content=\"2206160020613752351636727736372561577477166045\" />\\n<script>location.config = {root:\\'/pub/h/\\',mode:1,ver:{\"about/shared/modules/about/index.html\":\"72228fad8a9f2b09e5b918e5f0562751\",\"activities/mooc4year/wap/components/mooc4year-act/component.html\":\"39160ed385a86959ec7e8cf9f998bcfc\",\"activities/mooc4year/wap/components/mooc4year-actadd/component.html\":\"8b861dafe65eff9ad07a1ea3d83aa0a7\",\"activities/mooc4year/wap/components/mooc4year-actindex/component.html\":\"49369dd606109410c1a63c7de5862336\",\"activities/mooc4year/wap/components/mooc4year-actrank/component.html\":\"2c0dfe0771d3202183aba861527e32eb\",\"activities/mooc4year/web/components/mooc4year-act/component.html\":\"7fd5d8d0dc4ad0bc05b915962f06d707\",\"activities/mooc4year/web/components/mooc4year-actadd/component.html\":\"f9c0563b87aa605690c97637a8d202c5\",\"activities/mooc4year/web/components/mooc4year-actindex/component.html\":\"1ffce0b170399ac0ebda4e5e2ae528f3\",\"activities/mooc4year/web/components/mooc4year-actrank/component.html\":\"dbefa56a38af15de70c677800d732b77\",\"category/index/desktop/components/courseCardBox/courseCardBox.html\":\"846440eba185e49ccc9a5b917454626a\",\"category/index/desktop/components/courseCardList/courseCardList.html\":\"ecd4375293ff517683c38252d77da271\",\"category/index/desktop/components/courseCardList/courseCardTemplate.html\":\"966f9a9813969215b9cf67604b447f4d\",\"category/index/desktop/components/nav/nav.html\":\"44ea11cc30a079eca97fb1f63774b740\",\"category/index/desktop/components/sideBar/sideBar.html\":\"8f44054a7cef28976b8cd86995a7b0ee\",\"category/index/desktop/components/tagBar/tagBar.html\":\"300639bfa580e612e8487943dbdcee8f\",\"category/index/mobile/components/courseCardBox/courseCardBox.html\":\"8f08a62d385f9286ceda6e28ac19d968\",\"category/index/mobile/components/courseCardList/courseCardList.html\":\"ecd4375293ff517683c38252d77da271\",\"category/index/mobile/components/courseCardList/courseCardTemplate.html\":\"2a8bf00a68316ea5e41a2b9ff25b85ef\",\"category/index/mobile/components/scrollPager/component.html\":\"370b07f7c10ce1e30702ef8b74b06d10\",\"category/index/mobile/components/specialDisplayUI.html\":\"e147ebace33b4d2b1f7cbad6b989ff7a\",\"category/index/mobile/components/wapCateNavList.html\":\"209800efeda9a961b06a66f8ec8063ba\",\"category/index/mobile/components/wapCateWrapUI.html\":\"0e5c665fdc0c0f167d650ea8905a6ee5\",\"category/index/mobile/components/wapCourseCard.html\":\"be724e681925ecdcdf86745bb21b4cd6\",\"category/index/mobile/components/wapCourseList.html\":\"93f554561b4b1dafe6768cff2f974829\",\"cert/shared/modules/apply/index.html\":\"f7f0b265413aea83115044122bca5a6e\",\"cert/shared/modules/certDesign/index.html\":\"4536df7ad3ad26eadc6ed5fe0e770fb4\",\"cert/shared/modules/verify/index.html\":\"6607572744854c8717c9353c11fb7ff0\",\"column/audioContent/articleSnapUp/mobile/components/shared-article-snap-up/component.html\":\"4a364e2ad2afa7a2bb06b9c0939601ab\",\"column/audioContent/articleSnapUp/mobile/components/subscribe-button/component.html\":\"61e0937991f6ff24f0055fe7d61b8ddf\",\"column/freeArticles/mobile/components/free-articles/component.html\":\"31f51866eae902698b79799f08c7296f\",\"column/intro/mobile/components/call-app-banner-wrapper/component.html\":\"edfaa201cd75f5a651203dfa2671cee0\",\"column/shared/components/action-buttons/component.html\":\"5df4ff51c858af29ea8054b8d91cf96a\",\"column/shared/components/audio-content/wap/component.html\":\"09c3e0c477695661d4fd925c7351788f\",\"column/shared/components/audio-content/web/component.html\":\"c23fc3da822402298b0f434634f5c427\",\"column/shared/components/audio-player/wap/component.html\":\"56df8a627c34355a02c5b1e15a68ee0d\",\"column/shared/components/audio-player/web/component.html\":\"1250781dec8a3803b718bde9c071d98c\",\"column/shared/components/order-modal/component.html\":\"b445a081c48033fe48b2da4e6ac634df\",\"column/shared/components/selected-comments/component.html\":\"81374f7e014c5e19483e6c8f25f98c9f\",\"course/intro/desktop/components/moocModal/index.html\":\"8395bd309f3a1d66e0b1b0bbf1bdc411\",\"course/intro/desktop/components/scholarNotifyModal/index.html\":\"65973f21256483b51a7e17ca1f0420b7\",\"course/intro/desktop/modules/info/index.html\":\"6eb98345d1cdd759ca1801f8279e5b01\",\"course/intro/mobile/modules/courseDetail/index.html\":\"def98ad2fc2060b5e3e75d4a28cde2e5\",\"course/intro/shared/components/breadcrumb/web/component.html\":\"85fcd920fd7851791c39a1fa40b0bfd7\",\"course/intro/shared/components/course-enroll-info/web/component.html\":\"689aa4b1be8e094578b563ca93c9675c\",\"course/intro/shared/components/term-password-modal/web/component.html\":\"c13637d050dfe73f1329c2eaf943ff02\",\"donate/course/desktop/modules/donate/index.html\":\"ba9b3eb8ca19f57b7780314aea5b457a\",\"error/systemError/shared/modules/error/index.html\":\"7a959ae96fb393f53dff84c17f594c1a\",\"forum/index/shared/components/forum/index.html\":\"d871c0fe60e6f9d4a376b36562bff332\",\"forum/newPost/shared/components/publish/index.html\":\"20a37b467ec697018de8059d7ecf10d9\",\"forum/person/shared/components/personWrapper/index.html\":\"f96555a8aa9e7429e59176fd448267a7\",\"forum/person/shared/components/rcList/index.html\":\"27c0369019a36575b22608b468b5d1f0\",\"forum/person/shared/components/simplePersonUI/index.html\":\"10d2a1a38d88bd6d607b054dc050d376\",\"forum/shared/components/forumItem/index.html\":\"c4db1293bfb8152a9792733a39a0cf29\",\"forum/shared/components/forumList/index.html\":\"842b36e03df8b09a820a6c2b9d31e83c\",\"forum/shared/components/personUI/index.html\":\"da09fa8937527e4b661c6c6bc5c0a8b6\",\"forum/topic/desktop/components/commentItem.html\":\"5fab9ff563fffcf959e056e9fba2c3eb\",\"forum/topic/desktop/components/commentList.html\":\"3e6aff50e0bf2b1526b61adfb68d0500\",\"forum/topic/desktop/components/hoverManageList.html\":\"9bca3690e40c7404c9625503c0a26575\",\"forum/topic/desktop/components/replyItem.html\":\"14cda4788539108760062fb989f63e8f\",\"forum/topic/desktop/components/replyList2.html\":\"2d4c784cda2a82480cbeed010d87c0a1\",\"forum/topic/desktop/components/selectTagModal.html\":\"4d4a241fadf8bdc953fc417fba969c4b\",\"forum/topic/desktop/components/setTopTagModal.html\":\"8f3c00ced5695bd2aed9d440f58dd065\",\"help/help/desktop/modules/helpFront/index.html\":\"11ab940d0ddbecf0e17e1f6af639a9bf\",\"help/manageHelp/desktop/modules/helpBack.html\":\"c4aab2a8f19ef80598fff0007cbcd996\",\"home/desktop/components/certCard/component.html\":\"3fde956421541ad8b9a866602acfb258\",\"home/desktop/components/coursePanel/coursePanel.html\":\"4cc151de6818848af27d7fa7b1dd704f\",\"home/desktop/components/coursePanel/coursePanelBody/component.html\":\"5bfb275b140ffd733574ab4885b8c42a\",\"home/desktop/components/coursePanel/coursePanelBody/courseCard/component.html\":\"30949e33aed5411525c470fae194210f\",\"home/desktop/components/enrolledCourse/enrolledCourse.html\":\"38a4f0828fcf297c7b5e952680156214\",\"home/desktop/components/enrolledCourse/enrolledCourseBody/component.html\":\"5a62601516e70c7e0dc8e2c30779e80f\",\"home/desktop/components/enrolledCourse/enrolledCourseBody/enrolledCourseCard/component.html\":\"e77fe9d68187dd0ed8a3f0b9e09ca233\",\"home/desktop/components/otherLearn/component.html\":\"327ca7b69910500a820be81414364ca6\",\"home/desktop/components/personalProfileGuide/fillPersonalIntro.html\":\"c71ea4bb713cdaee313a2b485f495a68\",\"home/desktop/components/personalProfileGuide/personalProfileGuide.html\":\"d1174fbc1f2953b6d73982086c11f313\",\"home/desktop/components/personalProfileGuide/selectEducation.html\":\"28ea4713d74a241952fd733b4e74b7e0\",\"home/desktop/components/personalProfileGuide/selectOccupation.html\":\"5fe31611ae753d189198bcdeeb0dd32f\",\"home/desktop/components/personalProfileGuide/selectProfileType.html\":\"b89f06361f96312412a60c02ec53b8c3\",\"home/desktop/components/userInfoTop/component.html\":\"108d28569456bbcc997cb703ca6b63dd\",\"home/desktop/modules/course/index.html\":\"8e884464e9da812c6a7ed7a9fa4e24f8\",\"home/desktop/modules/discuss/index.html\":\"91776ceed112fc01c8ffbd35663407d6\",\"home/desktop/modules/index/index.html\":\"e19e1782fc30ba55a583db948b73dfae\",\"home/desktop/modules/mycert/index.html\":\"a33b5236bf64059e0b882311aec3e720\",\"home/desktop/modules/selfIntro/index.html\":\"ea3b1ec526469810ec1a0d5b07619268\",\"home/desktop/modules/spocCourse/index.html\":\"cd50699741b07416473f0bfee382b0e6\",\"index/desktop/components/columnList/component.html\":\"69446f4e24b1a714a1594da3bf00b5db\",\"index/desktop/components/courseRecent3/component.html\":\"74f9b4606f703f5142f6248e055992c5\",\"index/desktop/components/discussBox/component.html\":\"606b5910de97e0f540e5f608fe78a27f\",\"index/desktop/components/imageBox/component.html\":\"3046c0be509b7935c263a83ed89d3b74\",\"index/desktop/components/indexStudent/component.html\":\"3c926bd4e6cbc699f9deb1d8a03e89a1\",\"index/desktop/components/myCloudeGuide/component.html\":\"d755c43ed2b315177859ad3eddf82a6d\",\"index/desktop/components/recCourse/component.html\":\"adf94f939b340bf5f237b77e2cfcf088\",\"index/desktop/components/selfDefine/component.html\":\"5be95006c532b903594c2f9377c4999b\",\"index/mobile/components/category/component.html\":\"2cb34ae713958abe02c7c96277bc7690\",\"index/mobile/components/courseCard/component.html\":\"bf14d12f90e7619a4e70dd9b50cb67f1\",\"index/mobile/components/courseList/component.html\":\"79f2213636037a60ecdb8ed34e26ecf5\",\"index/mobile/components/courseLists/component.html\":\"f39bf35f1bb469b70a4634bc132f1e87\",\"index/mobile/components/nav/component.html\":\"170a335c7cc5115d1ff7a1ad80c1e63d\",\"junwei-app-course/courseDetail/mobile/components/course-detail-buy/component.html\":\"6740798f3fd0140b11efdc14078a916e\",\"junwei-app-course/courseDetail/mobile/modules/courseDetail/index.html\":\"ff043ecc494230e0f38321e0dc72379b\",\"junwei-app-course/courseLearn/mobile/modules/courseLearn.html\":\"445142ff2b7b1621e2e9140bcf7021ed\",\"learn/forum/mobile/components/commentItem.html\":\"a33233212a5a98441324870fcf39e748\",\"learn/forum/mobile/components/replyItemUI.html\":\"c17012beb044cc89bc4c46169ea28271\",\"learn/forum/mobile/components/wapForumDetailUI.html\":\"f7bc0f533e275f008038763167dcdab6\",\"learn/index/desktop/components/common/notice.html\":\"0e5ccbe4016398fb6daabf914ba869ce\",\"learn/index/desktop/components/lessonLiveWrapper/component.html\":\"3529fb785dbe0915c7efdf4877405539\",\"learn/index/desktop/modules/learn/content.html\":\"05921cf5d3f7bdc89a538706695d4965\",\"learn/index/desktop/modules/learn/exam.html\":\"a84e587258676b89b4a955494f14c799\",\"learn/index/desktop/modules/learn/forum.html\":\"3f6c18d558584c2bf235ae4913ab19a3\",\"learn/index/desktop/modules/learn/homework.html\":\"66b395dc4854060fccc425381528f052\",\"learn/index/desktop/modules/learn/notEnroll.html\":\"759db38aabedaf17a32ad1df9cc1e737\",\"learn/index/desktop/modules/learn/oj.html\":\"d90be061c80aa24f7a6b53984f66746c\",\"learn/index/desktop/modules/learn/task.html\":\"adb8912f0653e3525bad01c20ce2a105\",\"learn/index/desktop/modules/learn.html\":\"4a52d196be8780600e785b92e9d8f62c\",\"learn/video/mobile/components/wapLearnVideoUI.html\":\"a67b0a6b3c81e10234531eb470e2fdbd\",\"live/liveRoom/desktop/components/startLiveModal/startLiveBody/component.html\":\"e1805788edfdb576468f42d15d86db44\",\"live/liveRoom/desktop/module/module-live-room/src/component/instruction-modal/web/component.html\":\"2956dfd2e0ebd4cadc9ad0bc3d771560\",\"live/liveRoom/desktop/module/module-live-room/src/component/room-list-view/component.html\":\"8f725ccb51e6c2439d0f92906fab3d55\",\"live/liveRoom/desktop/module/module-live-room/src/component/start-modal-wrapper/web/component.html\":\"8995a4d4ace6cf0396460cad2f0ce73a\",\"live/liveRoom/desktop/module/module-live-room/src/live-room/index.html\":\"31507f5bdad0a5a4600fd206e920d34a\",\"live/openLive/desktop/components/livePresenterInfo/component.html\":\"fa4cdc96c617adb45ef9ecb52e672e1c\",\"live/openLive/desktop/components/liveWrap/component.html\":\"5cd369d96ba6fa04a45ab559c367d584\",\"live/openLive/desktop/components/openLiveWrapper/component.html\":\"49ac11324a9418b66c85ff2959da25a5\",\"live/openLive/desktop/components/openLiveWrapper/liveInfoHead/component.html\":\"a19ce7429259d2d27d51f14cd3a3a6e9\",\"live/openLive/mobile/components/liveNotExistUI.html\":\"554f44d6c92f0bab1eb81cbbfe550999\",\"live/openLive/mobile/components/marketing-content-entry/component.html\":\"810e29cf6e79dd06916c29d6ac93798f\",\"live/openLive/mobile/components/marketing-content-list-modal/component.html\":\"f60d49ef35de980c461c490c14b2b2da\",\"live/openLive/mobile/components/mobile-live-wrap/component.html\":\"79efaf1806ccb9c159fb10a5fc814541\",\"live/openLive/mobile/components/playBackUI.html\":\"75d1db6499c40c77156e94721fe4200f\",\"live/openLive/mobile/modules/index.html\":\"6dd3e88e3018e18a2b0da661269227f6\",\"live/openLive/mobile/modules/playBack.html\":\"3210b6b048120f1ba885c4754d0d0964\",\"live/openLive/shared/components/live-subscription/wap/component.html\":\"6236758eaa408c9633a7b1769818619c\",\"live/openLive/shared/components/live-subscription/web/component.html\":\"97d3e47b91aab58e9201de0b86d562d5\",\"member/addMemberInfo/desktop/modules/addMember/index.html\":\"9a6af270a7623f0da177f2bdb56b3138\",\"member/addMemberInfo/mobile/components/memberInfo/component.html\":\"b537b8e7ed98d5521fd207caac960cde\",\"member/icourseLogin/desktop/modules/icourseLogin/index.html\":\"4b2a047e67d9df5192b9a538888b29e3\",\"member/login/desktop/components/icourse-login-form/wap/component.html\":\"b56a753eda5bb5051688a490cca10df9\",\"member/login/desktop/components/icourse-login-form/web/component.html\":\"146cf4f3a0b6a705a62f7d01aef762b4\",\"member/login/desktop/components/mooc-login-page/web/component.html\":\"ea838506692f2579dd7608344616562b\",\"member/login/desktop/components/mooc-login-set/web/component.html\":\"3ad20a7431c07e59fca2cd69f1f01430\",\"member/login/desktop/components/mooc-regist-wrap/web/component.html\":\"073de1a0b2a05b97a050b2036f6697b1\",\"member/login/desktop/components/regist-wrap-pro/web/component.html\":\"aabbfeddb1342b5d780be59974ff459a\",\"member/login/desktop/modules/loginIndex/index.html\":\"385807d8039e5d10a26e495c8eb0d9fe\",\"member/login/mobile/components/login-set-wap-pro/wap/component.html\":\"0a9ebe60ebf100988648a736d08f72d4\",\"member/login/mobile/modules/loginEmail/index.html\":\"c1a1bf19c6857f7227fa546bc3dd8f62\",\"member/login/mobile/modules/loginIcourse/index.html\":\"70aee99de5be5a70e638a28dc722c887\",\"member/login/mobile/modules/loginIndex/index.html\":\"4f9cf98bb037dab2a6608448665eb4fe\",\"member/login/mobile/modules/loginTel/index.html\":\"f60062389f2b5d0419d88d42ccfda342\",\"member/login/mobile/modules/registTel/index.html\":\"9cc06dd7b0bea90190a9f4863fe37970\",\"member/shared/modules/login/index.html\":\"0484c29198affb16061b3676f7987165\",\"member/ursLogin/desktop/modules/ursLogin/index.html\":\"b8d2f3b740538aa12a6ed40bd3f58226\",\"order/index/components/address/component.html\":\"7f47ff212f79530c850a6e6b4cb71c2a\",\"order/index/components/confirm/component.html\":\"1140f339e067c7bf36ec0dba86ca9795\",\"order/index/components/tel-info/component.html\":\"4d18e1800a21c5c83b0d6b0bf8b59a1f\",\"order/payOrder/desktop/modules/order/index.html\":\"c8c72a4e0734e9e5810426e447f3f887\",\"pay/index/desktop/components/pay-content/component.html\":\"a4d53cab94ebf3401770f9c7246a38e9\",\"pay/index/desktop/components/wxpay-content/component.html\":\"7c6793cab9b91c8f7c51ecca67fe275a\",\"pay/order/desktop/modules/pay/index.html\":\"6487f887ee0c95d0f2b8a29c2fe28089\",\"practice/practicePage/mobile/components/objectItem.html\":\"e961ed0aca4d1da8431dd1fa2365c090\",\"practice/practicePage/mobile/components/objectPage.html\":\"e93ab417023fbec37aaee4e2d5a843c6\",\"scholarship2017/course/desktop/components/category-card/category-card.html\":\"b9444aba785ad2b383349c3fd08cb8ee\",\"scholarship2017/course/desktop/components/category-cards/category-cards.html\":\"6db04fc4857acf2ea3799b77a42e479d\",\"scholarship2017/course/desktop/components/category-tags/category-tags.html\":\"27c9e3729f88ff7651879f50c75847df\",\"scholarship2017/course/mobile/components/category-card/category-card.html\":\"1c1c60058442fa27aabe410118e9e266\",\"scholarship2017/course/mobile/components/category-cards/category-cards.html\":\"6db04fc4857acf2ea3799b77a42e479d\",\"scholarship2017/course/mobile/components/category-tags/category-tags.html\":\"27c9e3729f88ff7651879f50c75847df\",\"scholarship2017/index/shared/components/awards/wap/component.html\":\"3a477922c123ded8c4205d430a485abf\",\"scholarship2017/index/shared/components/awards/web/component.html\":\"2c8ee3b9517ddfbea1bc514c92754342\",\"scholarship2017/index/shared/components/common-questions/wap/component.html\":\"3424a8e317f397db6d929f8f6f9be075\",\"scholarship2017/index/shared/components/common-questions/web/component.html\":\"1a1afbb83397cf8d719035cdca002cd7\",\"scholarship2017/index/shared/components/course-assessment/wap/component.html\":\"beea39a091a52ad3a6503d0ef6242245\",\"scholarship2017/index/shared/components/course-assessment/web/component.html\":\"c2ff448f9073b7971d5974d8aa1d147a\",\"scholarship2017/index/shared/components/custom-activity/wap/component.html\":\"c2502638cd9c3e9d2c650a80e5f62edb\",\"scholarship2017/index/shared/components/custom-activity/web/component.html\":\"f135ae27dd7bc95c4e303fe38313e909\",\"scholarship2017/index/shared/components/index/wap/component.html\":\"d2a171c73d6106fbc1be4486f92f2df5\",\"scholarship2017/index/shared/components/index/web/component.html\":\"608f9eb66bc1e316930d665c8146856e\",\"scholarship2017/index/shared/components/invite-friends/components/invite-friends-modal/wap/component.html\":\"d28ac8176bb0c8c7b1fc0c88a5448b66\",\"scholarship2017/index/shared/components/invite-friends/components/invite-friends-modal/web/component.html\":\"8a95d2ced0f89a81154e60d01d980bf4\",\"scholarship2017/index/shared/components/invite-friends/wap/component.html\":\"12435f1470234c22c25c1961b3275d80\",\"scholarship2017/index/shared/components/invite-friends/web/component.html\":\"9c0b7d59767a8e3ca9ef091751dccfd0\",\"scholarship2017/index/shared/components/learning-goals/components/acquire-extra-bonus-modal/wap/component.html\":\"048ad4a2221239c46a6ef65bf0dec101\",\"scholarship2017/index/shared/components/learning-goals/components/acquire-extra-bonus-modal/web/component.html\":\"b4818a094df58ea98ead1c31d5d436a9\",\"scholarship2017/index/shared/components/learning-goals/components/radial-progress/wap/component.html\":\"aebb6b750dc648bd7a6f41867924990d\",\"scholarship2017/index/shared/components/learning-goals/components/radial-progress/web/component.html\":\"0529fdc3e4d1bdcc6c05388466accf23\",\"scholarship2017/index/shared/components/learning-goals/components/set-goals-modal/wap/component.html\":\"ad862051b01817d4aa6ee1ce02d09610\",\"scholarship2017/index/shared/components/learning-goals/components/set-goals-modal/web/component.html\":\"e9824b1d8ffd47826fe8664bcd421031\",\"scholarship2017/index/shared/components/learning-goals/wap/component.html\":\"408f2ce9f01e320ed1d92d48971773b9\",\"scholarship2017/index/shared/components/learning-goals/web/component.html\":\"a422904f04a197be9da28d421ff136b4\",\"scholarship2017/index/shared/components/personal-info-header/wap/component.html\":\"91f908e9a7dfb1d05d69238648907e5c\",\"scholarship2017/index/shared/components/personal-info-header/web/component.html\":\"2db22ff864bac3933f8c14dccf7ac17d\",\"scholarship2017/index/shared/components/rules/wap/component.html\":\"1627617b3fec74c28a18cfaf74fa11e0\",\"scholarship2017/index/shared/components/rules/web/component.html\":\"71371291e4db2fd695bfc69713a3842b\",\"scholarship2017/index/shared/components/shared/components/panel-wrapper/wap/component.html\":\"f87767cb400e87250175d95de2ee0c3f\",\"scholarship2017/index/shared/components/shared/components/panel-wrapper/web/component.html\":\"7394877b6c27c89a0147219f52d4de19\",\"scholarship2017/rank/desktop/components/rank/rank-final/index.html\":\"09fc2748cf9f5e8d8ba55ee5ccfd9892\",\"scholarship2017/rank/desktop/components/rank/rank-invite/index.html\":\"74aef8d33a2e927df0dafba5b77b5a04\",\"scholarship2017/rank/desktop/components/rank/rank-month/index.html\":\"6750b5a88ad51e1bd6f1d160d1d8443d\",\"scholarship2017/rank/desktop/components/rank/rank.html\":\"20f9f4c7e9275792e36b0d182ec15998\",\"scholarship2017/rank/mobile/components/rank/rank-final/index.html\":\"4bbaa95e81df7e775e9673323330e6dc\",\"scholarship2017/rank/mobile/components/rank/rank-invite/index.html\":\"6e19e1ef9a5b78f497c63d1e8ef12365\",\"scholarship2017/rank/mobile/components/rank/rank-month/index.html\":\"7b2f99514da00cee38b27516614ae53f\",\"scholarship2017/rank/mobile/components/rank/rank.html\":\"2d33d40d3eb4e4bd851d9530fa517c72\",\"scholarship2017/shared/components/modal-share-card/wap/component.html\":\"cf0ee5bd33aed3251023ca37cc341f7c\",\"scholarship2017/shared/components/modal-share-card/web/component.html\":\"04f9948e2807cd5978e1263408b78ee0\",\"scholarship2017/shared/components/scholarship-head/component.html\":\"6750880d60a112c876571f472f59b76c\",\"scholarship2017/shared/components/scholarship-head/components/tabs/wap/component.html\":\"34bf69ddb9ac68e93e265448671dffad\",\"scholarship2017/shared/components/scholarship-head/components/tabs/web/component.html\":\"1382c978e789added44196b6c286614b\",\"scholarship2017/shared/components/share-ship-embedded/web/component.html\":\"e3a638463c186277f93743950ce58deb\",\"scholarship2017/shared/components/tooltip/wap/component.html\":\"ef96bbde8a756340291b30e62db5acec\",\"scholarship2017/shared/components/tooltip/web/component.html\":\"e41055f8c761ec8d4debe4a42863772b\",\"scholarship2017/team/shared/components/influence-list/wap/component.html\":\"af8b634c21c02ced77a5c53b3007ba6a\",\"scholarship2017/team/shared/components/influence-list/web/component.html\":\"084edebae68f994f97cc5b16f4566151\",\"scholarship2017/team/shared/components/myteam-info/wap/component.html\":\"0b56989716301f1483c913d42fee08d5\",\"scholarship2017/team/shared/components/myteam-info/web/component.html\":\"aa23d1dc9094cc836e0335c6c5a109ec\",\"scholarship2017/team/shared/components/team-card/wap/component.html\":\"66b2cfa56546c09a39a9048f14581a81\",\"scholarship2017/team/shared/components/team-card/web/component.html\":\"0161a08f04b218cea29fbe6185e7a385\",\"scholarship2017/team/shared/components/team-create/wap/component.html\":\"d6e3c5aa1e77727269ce2c00d85f62e2\",\"scholarship2017/team/shared/components/team-create/web/component.html\":\"3d849298b3f2a158e7fbb580c9c485e8\",\"scholarship2017/team/shared/components/team-info-modal/wap/component.html\":\"a4b4799bf1fa84af2cb723b55ea89960\",\"scholarship2017/team/shared/components/team-info-modal/web/component.html\":\"a4b4799bf1fa84af2cb723b55ea89960\",\"scholarship2017/team/shared/components/team-list/wap/component.html\":\"be72c5d6031231be2df22033e1ed288a\",\"scholarship2017/team/shared/components/team-list/web/component.html\":\"85e1bc814652ad3b9acf67ddd2f495dc\",\"scholarship2017/team/shared/components/team-rank/wap/component.html\":\"448044f4cfefbd55eb4b8ca3815f0690\",\"scholarship2017/team/shared/components/team-rank/web/component.html\":\"8e22da061c43daf0c6bdf53dd84a0f59\",\"search/mobile/components/searchBox/component.html\":\"4335b0085afc3e7da8fa71d8935a5cd7\",\"shared/components/IE8Supported/IE8Notice.html\":\"33bf194a5657717209898a9c9cac8192\",\"shared/components/affix/component.html\":\"2c4fb63f394ab5e33750eff209d71ef0\",\"shared/components/appCallBanner/appCallBanner.html\":\"ea9c54d8945c3719f91ef1dcbd2c9e2b\",\"shared/components/banUserModal/wap/component.html\":\"c2055b5311c7c5e05a1832832590173c\",\"shared/components/banUserModal/web/component.html\":\"acdc078b8c52a071e75d040a554dff2a\",\"shared/components/baseui/commonui.html\":\"2f8dcb599a6fbef87ac77663f058d71c\",\"shared/components/bind-phone-modal/wap/component.html\":\"0f4f73c1975b818ad7f31a22a42f4000\",\"shared/components/bind-phone-modal/web/component.html\":\"04f120ae2a04cc79a765381e9da994ce\",\"shared/components/call-app-banner/component.html\":\"61a2380be90eb0fb73dad1a6bf00ca77\",\"shared/components/card/baseCourseCard/baseCourseCard.html\":\"300639bfa580e612e8487943dbdcee8f\",\"shared/components/card/courseCardWithTime/component.html\":\"f0600ebddef84a17a1c8dc30bc58f18f\",\"shared/components/card/discussCardWithDetail/component.html\":\"8273f3ee01e020d53ffdcdee027a30ce\",\"shared/components/card/discussCardWithQuote/component.html\":\"5a4fb19341b9886082630ecb67e41329\",\"shared/components/card/liveCard/component.html\":\"ad5ecb64bad783aa5e92090c7e0acc98\",\"shared/components/card/selfDefineNoDiscuss/component.html\":\"be7f3688a2ffa6ed28f706cd94ea6cf1\",\"shared/components/card/selfDefineWithDiscuss/component.html\":\"a0e35c97bd93d5510dfb71253cf62cc1\",\"shared/components/card/spocBaseCourseCard/component.html\":\"ca67e39685e8774d31ba7b8278938a1a\",\"shared/components/card/studentCard/component.html\":\"e79e74ea94a6e6deb2c7c2953c1c4397\",\"shared/components/course/spocCourseList/wap/component.html\":\"5032495fd62e5a4cf9abbd8bcf3f95b3\",\"shared/components/course/spocCourseList/web/component.html\":\"37b50d653c0fc11d34673e930ce949b0\",\"shared/components/crumb/crumb.html\":\"db9cdfd9bff175178249a75e8f8c7670\",\"shared/components/custom-phone-bind-wrap/web/component.html\":\"a8c3941b073fd3b7ec8c9b6b989e61eb\",\"shared/components/discuss/discussWrap.html\":\"55bcf23250b56dc4bbd14527ee7bf53a\",\"shared/components/editor/editor.html\":\"63b554d44774c906cb76ffc4e185d03b\",\"shared/components/emailTips/component.html\":\"f4a692f8bfb7b2c480fbcd6e2c7f0771\",\"shared/components/empty/commonEmpty.html\":\"61d03bcbb9131efa935ad3c2cf139852\",\"shared/components/followModal/followModalBody/component.html\":\"9095306d63fe4cd4ba81c33d5b7a91b3\",\"shared/components/followModal/followModalBody/followModalUserBox/component.html\":\"9ee07a76f3caf298d5a8c150e883c78b\",\"shared/components/followModal/followModalHead/component.html\":\"9d9fc3e22dbba583dc2a43dfd6c550c1\",\"shared/components/followModal/followModalWrapper/component.html\":\"95adba04c69a6a57289003ace59f9efc\",\"shared/components/global-sticky-components/inquiry/component.html\":\"dd1e8da6f3ec6fae65952c968881c44c\",\"shared/components/hoverTip/hover.html\":\"fa7f2776a5c14d4930b07a512f995a29\",\"shared/components/mobile-modal/wap/component.html\":\"ccd8a50f6619220d44775a96cef352dd\",\"shared/components/recImg/component.html\":\"a640c527a59cbfd23b95980c5b7e21aa\",\"shared/components/recentLive/component.html\":\"c178aeed844f649d6b63b02feec73f39\",\"shared/components/recentPost/component.html\":\"813742de8f48cd215659415fef724490\",\"shared/components/resultView/resultView.html\":\"3defb42c4b858203fd68ac9efafa4294\",\"shared/components/searchAzBox/searchAzBox.html\":\"45e7dc903c9dc11c8b4e825fa376990e\",\"shared/components/selectTab/component.html\":\"27c8f47be79a1983ca02545b597de836\",\"shared/components/u-courseCard/component.html\":\"f859b2d0a66c125816cbfd798a630024\",\"shared/components/userInfoSideBar/component.html\":\"2be91ceca1e3085af2ba95c2bff5a052\",\"shared/components/userInfoTop/component.html\":\"7d610141ecca554afa0af3111dc07025\",\"shared/components/wechat-invoke-app-overlay/component.html\":\"af084342c20071a2d183117a140e5216\",\"shared/desktop/components/courseCard.html\":\"26b4600659ecfb619f775295cc7e5442\",\"shared/desktop/components/recomendCourseList.html\":\"d0f9e6b604052f800a31fbb4de746983\",\"shared/desktop/components/signActivity/component.html\":\"c4a9a209694bd7a43f238437b63de432\",\"shared/desktop/components/u-cateNav/component.html\":\"3bf37e27430171b99d46dcb3beb8284a\",\"shared/desktop/components/viewImage/component.html\":\"f8f2d110f1ad0fd8c0e1111ba5d58753\",\"shared/desktop/modules/commonutil/commonutil.html\":\"c714b4ee6bb611b3b639c32b76e2f7fd\",\"shared/mobile/components/mobile-modal/wap/component.html\":\"2f74e128075928fb7870beaf3d6a48e1\",\"shared/mobile/modules/commonutil/commonutil.html\":\"c7308df665f2c97f93491f75991999d3\",\"shared/modules/teacherCenter/index.html\":\"4894eca6e2f66c8617148d1ba7f40247\",\"spoc/cloud/schoolCloud/desktop/components/allCourses.html\":\"c5db9c135709cf3f38c0d8c35a1d87de\",\"spoc/cloud/schoolCloud/desktop/components/allSchools.html\":\"af59b9e3660c5683a0c15f7580ee77ac\",\"spoc/cloud/schoolCloud/desktop/components/applyCloudModal.html\":\"481da8a4e2053bd99d8196b0d621a675\",\"spoc/cloud/schoolCloud/desktop/components/applySuccessModal.html\":\"ff69ac031c9098ecf0b1f0a92b92d492\",\"spoc/cloud/schoolCloud/desktop/components/caseIntroPartnerUI.html\":\"b63a2a3be0b7600573d6168b771aa250\",\"spoc/cloud/schoolCloud/desktop/components/caseIntroSampleUI.html\":\"0fdaae632815821d1b7961dfd75c9abf\",\"spoc/cloud/schoolCloud/desktop/components/courseResCard.html\":\"2214c37601c9d7dc56c7cfe304a14911\",\"spoc/cloud/schoolCloud/desktop/components/courseResHeaderUI.html\":\"90c9ed893297b1f6dd4192750e0bc361\",\"spoc/cloud/schoolCloud/desktop/components/courseResTabUI.html\":\"766e2a2a8f3aa7893aa36e332fc6bce9\",\"spoc/cloud/schoolCloud/desktop/components/indexPage.html\":\"f62174f7d57d26a0e621dd4f3f8ac2fd\",\"spoc/cloud/schoolCloud/desktop/components/introUI.html\":\"a8b0433f71f0bf4582a3bb5676f410f3\",\"spoc/cloud/schoolCloud/desktop/components/recruitLesson.html\":\"522fa145361e69b656eb29d057dc09c6\",\"spoc/cloud/schoolCloud/desktop/components/schoolCloudIntro.html\":\"6cd9c5c02534a83b5470fd75cae125c6\",\"spoc/cloud/schoolCloud/desktop/modules/caseIntro/index.html\":\"40bd60328d519b4ce966f17747222138\",\"spoc/cloud/schoolCloud/desktop/modules/courseResource/index.html\":\"0c7ef7a0cb4f87e1ca5f76d6505a2aa5\",\"spoc/cloud/schoolCloud/desktop/modules/help/index.html\":\"c0aca75731513af62a6e066d4f3003c6\",\"spoc/cloud/schoolCloud/desktop/modules/index/index.html\":\"55176e976a80834d92e9dd8132c70e45\",\"spoc/index/desktop/modules/spocIndex/index.html\":\"7ba40761807164d3004d21f8f0116b94\",\"spoc/shared/components/directPurchaseModal.html\":\"9e5ebc18903e6ce9b5f893513a8368d5\",\"spoc/shared/components/identifyStudentModal.html\":\"d3cf1a31e53b23f3884369c24ebec56a\",\"spoc/shared/components/schoolUI.html\":\"947749c3afaf7d3d1f408edc427ab043\",\"spoc/university/detail/desktop/components/trialNotifyModal.html\":\"01f61c49c07a1364907ac52fc2ec3357\",\"spoc/university/detail/desktop/modules/universityCenter/index.html\":\"1a570b18844fa8e70094b273624e5474\",\"teacherPage/kaoyan/shared/components/boostingProgramPanel/wap/component.html\":\"d68d7572a7664897cba300927f040c80\",\"teacherPage/kaoyan/shared/components/boostingProgramPanel/web/component.html\":\"a62a14112ae7f910ea19e03c2fcbec37\",\"teacherPage/kaoyan/shared/components/coupon-card/web/component.html\":\"6d3c02d6e65261393c7c8f5744db5d27\",\"teacherPage/kaoyan/shared/components/kaoyanHeader/wap/component.html\":\"e124141e4b031d64cfce991474779315\",\"teacherPage/kaoyan/shared/components/kaoyanHeader/web/component.html\":\"f9db707a80fa7a6ffcc18d2dc11f639c\",\"teacherPage/kaoyan/shared/components/new-course-card/web/component.html\":\"d96b7173e67f5f7d8534d1d6015bb52e\",\"teacherPage/kaoyan/shared/components/new-course-panel/web/component.html\":\"8760a0c0f4daeb76d30265ee91d7c29b\",\"teacherPage/kaoyan/shared/components/teacherCouponPanel/web/component.html\":\"e96d8b25f23036d6aee2cdb249786fbd\",\"teacherPage/kaoyan/shared/components/teacherLivePanel/wap/component.html\":\"9fb2a1c777b96800cc2cab487d68004a\",\"teacherPage/kaoyan/shared/components/teacherLivePanel/web/component.html\":\"8a6a38abcbf986afc8764b1da51ef89a\",\"teacherPage/mooc/desktop/modules/course/index.html\":\"708915ad6eadcf48dac5665c04d66d64\",\"teacherPage/mooc/desktop/modules/discuss/index.html\":\"7047c1b8bf99d8f6efe7469a83dc876e\",\"teacherPage/mooc/desktop/modules/index/index.html\":\"6fc1e534afd1690a1460a798876fe934\",\"university/detail/desktop/modules/universityCenter/index.html\":\"17a5fbe8dc70fef4889be83e512a90d9\",\"user/setting/accountSetting/desktop/modules/accountSetting/index.html\":\"a373ef63ce8837db87215aebb86921cc\",\"user/setting/accountSetting/desktop/modules/mailSetting/index.html\":\"a21d3887922453fc9d824285b4930f60\",\"user/setting/personInfoEdit/desktop/modules/personInfoSetting/index.html\":\"fc168500ca3a45c2afd8ee3876735c31\",\"user/teacherCenterEdit/desktop/modules/teacherCenterEdit/index.html\":\"ba4dc029701921a7ac65c78416d0a27a\",\"vocation/all/desktop/modules/vocation/index.html\":\"2866be0b3de20854f896355fe2a2bb7d\"}};</script>\\n<script>\\nwindow.__phoneAccountFunctionalitiesSwitch = true;\\nvar $$$nativeWindowKeys = [\"postMessage\",\"blur\",\"focus\",\"close\",\"frames\",\"self\",\"window\",\"parent\",\"opener\",\"top\",\"length\",\"closed\",\"location\",\"document\",\"origin\",\"name\",\"history\",\"locationbar\",\"menubar\",\"personalbar\",\"scrollbars\",\"statusbar\",\"toolbar\",\"status\",\"frameElement\",\"navigator\",\"applicationCache\",\"customElements\",\"external\",\"screen\",\"innerWidth\",\"innerHeight\",\"scrollX\",\"pageXOffset\",\"scrollY\",\"pageYOffset\",\"screenX\",\"screenY\",\"outerWidth\",\"outerHeight\",\"devicePixelRatio\",\"clientInformation\",\"screenLeft\",\"screenTop\",\"defaultStatus\",\"defaultstatus\",\"styleMedia\",\"onanimationend\",\"onanimationiteration\",\"onanimationstart\",\"onsearch\",\"ontransitionend\",\"onwebkitanimationend\",\"onwebkitanimationiteration\",\"onwebkitanimationstart\",\"onwebkittransitionend\",\"isSecureContext\",\"onabort\",\"onblur\",\"oncancel\",\"oncanplay\",\"oncanplaythrough\",\"onchange\",\"onclick\",\"onclose\",\"oncontextmenu\",\"oncuechange\",\"ondblclick\",\"ondrag\",\"ondragend\",\"ondragenter\",\"ondragleave\",\"ondragover\",\"ondragstart\",\"ondrop\",\"ondurationchange\",\"onemptied\",\"onended\",\"onerror\",\"onfocus\",\"oninput\",\"oninvalid\",\"onkeydown\",\"onkeypress\",\"onkeyup\",\"onload\",\"onloadeddata\",\"onloadedmetadata\",\"onloadstart\",\"onmousedown\",\"onmouseenter\",\"onmouseleave\",\"onmousemove\",\"onmouseout\",\"onmouseover\",\"onmouseup\",\"onmousewheel\",\"onpause\",\"onplay\",\"onplaying\",\"onprogress\",\"onratechange\",\"onreset\",\"onresize\",\"onscroll\",\"onseeked\",\"onseeking\",\"onselect\",\"onstalled\",\"onsubmit\",\"onsuspend\",\"ontimeupdate\",\"ontoggle\",\"onvolumechange\",\"onwaiting\",\"onwheel\",\"ongotpointercapture\",\"onlostpointercapture\",\"onpointerdown\",\"onpointermove\",\"onpointerup\",\"onpointercancel\",\"onpointerover\",\"onpointerout\",\"onpointerenter\",\"onpointerleave\",\"onbeforeunload\",\"onhashchange\",\"onlanguagechange\",\"onmessage\",\"onmessageerror\",\"onoffline\",\"ononline\",\"onpagehide\",\"onpageshow\",\"onpopstate\",\"onrejectionhandled\",\"onstorage\",\"onunhandledrejection\",\"onunload\",\"performance\",\"stop\",\"open\",\"alert\",\"confirm\",\"prompt\",\"print\",\"requestAnimationFrame\",\"cancelAnimationFrame\",\"requestIdleCallback\",\"cancelIdleCallback\",\"captureEvents\",\"releaseEvents\",\"getComputedStyle\",\"matchMedia\",\"moveTo\",\"moveBy\",\"resizeTo\",\"resizeBy\",\"getSelection\",\"find\",\"getMatchedCSSRules\",\"webkitRequestAnimationFrame\",\"webkitCancelAnimationFrame\",\"btoa\",\"atob\",\"setTimeout\",\"clearTimeout\",\"setInterval\",\"clearInterval\",\"createImageBitmap\",\"scroll\",\"scrollTo\",\"scrollBy\",\"onappinstalled\",\"onbeforeinstallprompt\",\"caches\",\"crypto\",\"ondevicemotion\",\"ondeviceorientation\",\"ondeviceorientationabsolute\",\"indexedDB\",\"webkitStorageInfo\",\"sessionStorage\",\"localStorage\",\"fetch\",\"onauxclick\",\"visualViewport\",\"speechSynthesis\",\"webkitRequestFileSystem\",\"webkitResolveLocalFileSystemURL\",\"openDatabase\",\"chrome\", \\'__REGULAR_DEVTOOLS_GLOBAL_HOOK__\\', \\'$$$nativeWindowKeysCheckMap\\', \\'$$$nativeWindowKeys\\', \\'$$$globalErrors\\'];\\nvar $$$nativeWindowKeysCheckMap = {},\\ni = 0,\\nl = $$$nativeWindowKeys.length;\\nfor (; i < l; i++) {\\n$$$nativeWindowKeysCheckMap[$$$nativeWindowKeys[i]] = 1;\\n}\\nwindow.__globalErrorEvents = [];\\nfunction errorEventHandler(e) {\\nwindow.__globalErrorEvents.push(e);\\n}\\nfunction addEvent(el, ev, fn) {\\nif (el) {\\nif (el.addEventListener) {\\nel.addEventListener(ev, fn);\\n} else if (el.attachEvent) {\\nel.attachEvent(ev, fn);\\n}\\n}\\n}\\naddEvent(window, \\'error\\', errorEventHandler);\\ndelete window.addEvent;\\n</script>\\n<script onerror=\"javascript:window.errorEventHandler && window.errorEventHandler(event)\" src=\"//mc.stu.126.net/pub/s/libEs5Shim_5bbf31f93e60b15fb3bcb2ba8bdac626.js\"></script>\\n<script onerror=\"javascript:window.errorEventHandler && window.errorEventHandler(event)\" src=\"//mc.stu.126.net/pub/s/libEs6Shim_b1d0c40a89ec7748483661e8cf64e3ec.js\"></script>\\n<script onerror=\"javascript:window.errorEventHandler && window.errorEventHandler(event)\" src=\"//mc.stu.126.net/pub/s/libRegular_e3fc7f63ef5a597f84cc352c95c59683.js\"></script>\\n<script type=\"text/javascript\" src=\"//ursdoccdn.nosdn.127.net/webzj_cdn101/pathb_message_17011101.js\"></script>\\n<script type=\"text/javascript\" src=\"//acstatic-dun.126.net/tool.min.js\"></script>\\n<script>\\nwindow.gaProduct = \"mooc\";\\nwindow.urlPrefix = {\\nindexPrefix             : \"/\",\\nhomePrefix              : \"/home.htm\",\\nloginPrefix             : \"/member/login.htm\",\\nlogoutPrefix            : \"/passport/member/logout.htm\",\\nsearchPrefix            : \"/search.htm\",\\ncourseListPrefix        : \"/category/all\",\\nuniversityListPrefix    : \"/university/view/all.htm\",\\nuniversityPrefix        : \"/university/\",\\nuniversityPreviewPrefix : \"/university/preview/\",\\nvocationIndexPrefix     : \"/vemooc\",\\ncourseInfoPrefix        : \"/course/\",\\ncourseInfoPreviewPrefix : \"/course/preview/\",\\ncourseLearnPrefix       : \"/learn/\",\\ncourseLearnPreviewPrefix: \"/learn/preview/\",\\ncourseLearnReviewPrefix : \"/learn/review/\",\\nlearnForTeacherPrefix   : \"/learn/enroll/\",\\nspocMainPrefix          : \"/spoc/schoolcloud/index.htm\",\\nspocCourseInfoPrefix    : \"/spoc/course/\",\\nspocCourseLearnPrefix   : \"/spoc/learn/\",\\nspocUsityIdPrefix       : \"/spoc/university.htm?schoolId=\",\\nspocUniversityListPrefix      : \"/university/view/all.htm\",\\nspocUniversityPrefix       \\t  : \"/spoc/university/\",\\nspocUniversityPreviewPrefix   : \"/spoc/university/preview/\",\\nspocMemberPrefix       \\t\\t  : \"/spoc/u/\",\\nspocMemberPreviewPrefix       : \"/spoc/u/preview/\",\\nmemberPrefix            : \"/u/\",\\nmemberPreviewPrefix     : \"/u/preview/\",\\naddMemberInfoPrefix     : \"https://www.icourse163.org/member/addMemberInfo.htm\",\\npartnerSuperAdminPrefix : \"/partnerAdmin/superAdmin.htm\",\\npartnerEditorAdminPrefix: \"/partnerAdmin/editorAdmin.htm\",\\ncolumnistAdminPrefix    : \"/column/management/index.htm\",\\nadminManagerPrefix      : \"/collegeAdmin/schoolPanel.htm\",\\nadminTeacherPrefix      : \"/collegeAdmin/teacherPanel.htm\",\\ncoursecreatePrefix      : \"/collegeAdmin/courseCreate.htm\",\\nadminSetMessagePrefix   : \"/collegeAdmin/setMessage.htm\",\\nadminSettingPrefix      : \"/collegeAdmin/setting.htm\",\\nadminToolsPrefix        : \"/collegeAdmin/tools.htm\",\\ntermManagePrefix        : \"/collegeAdmin/termManage/\",\\nreviewQuizPrefix        : \"/review/quiz/{id}.htm\",\\nreviewHwPrefix          : \"/review/hw/\",\\nreviewTrainPrefix       : \"/review/train/\",\\nteacherMainEditPrefix   : \"/user/teacherMainEdit.htm\",\\npersonInfoSettingPrefix : \"/user/setting/personInfoEdit.htm\",\\naccountSettingPrefix    : \"/user/setting/accountSetting.htm\",\\nattachmentPrefix        : \"/homework/attachment.htm\",\\ntitleAttachmentPrefix   : \"/question/title/attachment.htm\",\\nnotSupportedPrefix      : \"/common/errors/notSupported.htm\",\\nhelpFrontPrefix         : \"/help/help.htm\",\\nhelpBackIndexPrefix     : \"/help/helpIndex.htm\",\\nhelpBackPrefix          : \"/help/manageHelp.htm\",\\nscholarship2017TeamPrefix           : \"/scholarship2017/team/team.htm\",\\naboutUsPrefix           : \"/about/aboutus.htm\",\\ncontactUsPrefix         : \"/about/contactus.htm\",\\ncertApplyPrefix         : \"/cert/apply.htm\",\\ncertDesignPrefix        : \"/cert/certDesign/{id}.htm\",\\nchargeCertDesignPrefix  : \"/cert/chargeCertDesign/{id}.htm\",\\npayOrderPrefix          : \"/pay/order.htm\",\\ndonateCoursePrefix      : \"/donate/course.htm\",\\ngetTextPrefix           : \"/resource/getText.htm\",\\ncdnReportPrefix\\t\\t\\t: \\'https://study.163.com/about/cdnReport.htm\\',\\nsnsOAuthPrefix          : \"/passport/sns/doOAuth.htm\",\\nursAuthorPrefix         : \"https://www.icourse163.org/member/ursLogin.htm\",\\nthirdBindCallbackHref   : \"https://www.icourse163.org/logingate/urs/bindCallback.htm\",\\nicourseAuthorPrefix     : \"https://www.icourse163.org/member/icourseLogin.htm\"\\n};\\nwindow.moocHost             = \"icourse163.org\";\\nwindow.moocHref             = \"https://www.icourse163.org\";\\nwindow.moocStaticHost       = \"mc.stu.126.net\";\\nwindow.callAppDownloadHref  = \"https://www.icourse163.org/client/callAppDownload.htm\";\\nwindow.NEJ_CONF = {\\nclipboard: \\'//mc.stu.126.net/res/swf/nej_clipboard.swf?0eba83544b107d7207d8936baab41283\\'\\n};\\n\\nwindow.serverTimeDiff = new Date().getTime() - 1540031122866;\\nwindow.currentPageName = \"home\";\\nwindow.imageUrlMap = {\\nloading_circle_gif:\"//mc.stu.126.net/res/images/ui/loading_circle.gif?00ef871b291bc03a497d608a5bd8ec99\",\\nshare_sprite:\"//mc.stu.126.net/res/images/ui/shareUI.png?e2653a364a790663aed6c6ece19fd83a\",\\nui_sprite:\"//mc.stu.126.net/res/images/ui/ui_sprite.png?5f7eedcf69b8a05d3ed53b4c1918de1c\",\\nforum_icon_sprite:\"//mc.stu.126.net/res/images/ui/forum_icon.png?b12539c2400cc76ad30262bdf7e12cbd\",\\nimage_upload_swf:\"//mc.stu.126.net/res/swf/imageUpload.swf?884965992b66cee07fb945929ac4b00f\",\\nimage_pdf_swf:\"//mc.stu.126.net/res/swf/pdfReader.swf?74ddf86a5d97e5af891638154a0989d1\",\\nimage_video_swf:\"//mc.stu.126.net/res/swf/moocPlayer.swf\",\\nimg_upd_select_swf:\"//mc.stu.126.net/res/swf/DragCutUpload_mooc.swf?ac94fb92d65cb0f12a93a8ca00fa3df9\",\\nimg_default_big_head:\"//edu-image.nosdn.127.net/457BE69DFFF1A6157EAF6D44EA2D8662.png?imageView&thumbnail=180y180&quality=100\",\\nimg_default_small_head:\"//mc.stu.126.net/res/images/common/headImg/small.jpg?06517f5e438da035a4016abd8e661d2f\",\\nimg_default_unviersity_1:\"//mc.stu.126.net/res/images/common/default/university1.png?55bbec907070a55ee4d333bc645445d1\",\\nimg_default_unviersity_2:\"//mc.stu.126.net/res/images/common/default/university2.png?a00032f80fa68a6ea6135ee8df9ed7a4\",\\nimg_default_unviersity_3:\"//mc.stu.126.net/res/images/common/default/university3.png?63f350451049f7803b014abab9408a4d\",\\nimg_default_unviersity_cert:\"//mc.stu.126.net/res/images/common/default/universityCert.png?4c209d5c5ebddc91e80fcf34795ddae1\",\\nimg_default_course:\"//mc.stu.126.net/res/images/common/default/course.jpg?2bc75b250fac482eabbcbc071b94abd4\",\\nimg_default_signature:\"//mc.stu.126.net/res/images/common/signature_example.png?a15f9c690bfd58771de32d5c483dea59\",\\nimg_step_score_mail:\"//mc.stu.126.net/res/images/common/step_score_mail.jpg?201e015a404c3c7aef85de694a4b6622\"\\n};\\nwindow.swfUrlMap = {\\nCloudPlayer:\"//mc.stu.126.net/res/swf/eduPlayer.swf?be877349a3014ffd45d3be0ba2633556\",\\ncloudPlayerUI:\"//mc.stu.126.net/res/swf/cloudPlayerUI.swf?83eaf96a4fa93df776e734c42d59ecc6\"\\n}\\nwindow.ursBasicConfig = {\\nproductkey : \\'a3b396bb2f589bbc1151f0fa61d14747\\',\\nproduct : \\'imooc\\',\\npromark : \\'cjJVGQM\\',\\n//product : \\'urs\\',\\n//promark : \\'RFYwJDP\\',\\n//productkey: \\'bcaddd8933a501880ebef6b951fe8f8a\\',\\nhost : \\'www.icourse163.org\\',\\ncookieDomain: \\'icourse163.org\\',\\nregCookieDomain : \\'icourse163.org\\',\\n};\\nwindow.URSLoginConfig = {\\nproduct : \\'imooc\\',\\nproductKey: \\'a3b396bb2f589bbc1151f0fa61d14747\\',\\npromark : \\'cjJVGQM\\',\\nhost : \\'www.icourse163.org\\',\\ncookieDomain : \\'icourse163.org\\',\\nskin : 3,\\npage : \\'login\\',\\nneedUnLogin : 1 ,\\ndefaultUnLogin:1,\\nplaceholder : {account:\\'常用邮箱或网易邮箱\\',pwd:\\'密码\\'},\\nneedPrepare: 1,\\nregUrl : \\'//zc.reg.163.com/regInitialized?pd=imooc&pkid=YeaYYzQ&pkht=www.icourse163.org\\',\\ncoverBackground : \"background:-webkit-radial-gradient(center,rgba(0,0,0,0.3),#000 75%);\",\\nsingle : 1,\\ncssDomain : \\'//cmc.stu.126.net/u/css/cms/\\',\\ncssFiles : \\'urs4moocweb.css\\',\\nframeSize : {\\'width\\':380,\\'height\\':282},\\nlogincb : function(cb){}\\n};\\n</script>\\n<script type=\"text/javascript\">\\nwindow.isMobilePhone = \"false\";\\nwindow.gaTrackPageview = \\'_trackPageview\\';\\nwindow.gaTrackEvent = \\'_trackEvent\\';\\nwindow.gaqStr = \\'_gaq\\';\\nwindow.m_shareUrl = \"\";\\nvar _ua = \\'UA-35176345-3\\';\\n// var _ua = \\'UA-35176345-8\\'; //fix http://jira.netease.com/browse/MOOC-3603\\nwindow._gaq = [];\\nwindow._gaq.push([\\'_setAccount\\', _ua],[\\'_setLocalGifPath\\', \\'/\\' + _ua + \\'/__utm.gif\\'],[\\'_setLocalRemoteServerMode\\']);\\nwindow._gaq.push([\\'_addOrganic\\', \\'m.baidu.com\\', \\'word\\']);\\nwindow._gaq.push([\\'_addOrganic\\', \\'soso\\', \\'search\\']);\\nwindow._gaq.push([\\'_addOrganic\\', \\'sogou\\', \\'query\\']);\\nwindow._gaq.push([\\'_addOrganic\\', \\'haosou\\', \\'q\\']);\\nwindow._gaq.push([\\'_addOrganic\\', \\'youdao\\', \\'q\\']);\\nwindow._gaq.push([\\'_addOrganic\\', \\'chinaso\\', \\'q\\']);\\nwindow._gaq.push([\\'_addOrganic\\', \\'zhongsou\\', \\'w\\']);\\nwindow._gaq.push([\\'_addOrganic\\', \\'m.sp.sm.cn\\', \\'w\\']);\\n(function() {\\nvar ga = document.createElement(\\'script\\'); ga.type = \\'text/javascript\\'; ga.async = true;\\nga.src = \\'//wr.da.netease.com/ga.js\\';\\nvar s = document.getElementsByTagName(\\'script\\')[0]; s.parentNode.insertBefore(ga, s);\\n})();\\n</script>\\n<!--[if lt IE 9]>\\n<script onerror=\"javascript:window.errorEventHandler && window.errorEventHandler(event)\" src=\"//mc.stu.126.net/pub/s/libH5Shiv_f4d9dea8e0ae8455500862bbb874d63c.js\"></script>\\n<![endif]-->\\n<script src=\"//hubble-js-bucket.nosdn.127.net/DATracker.sync.1.6.2.js\"></script>\\n<script>\\nDATracker.init(\\'MA-A976-948FFA05E931\\', {\\nuse_app_track: true,\\nheatmap: {\\nisTrackLink: true,\\ncollect_url: function() {\\n//使用场景如：\\n//学习页面不再采集\\nif(location.href.indexOf(\\'/learn/\\')>-1) {\\nreturn false;\\n}else{\\nreturn true\\n}\\n},\\n}\\n})\\n</script></head>\\n<link rel=\"stylesheet\" href=\"//mc.stu.126.net/pub/s/pt_web_home_3865c28e721e360d690fba36b9cfa47c.css\"/>\\n<body>\\n<div id=\"j-activityBanner\" class=\"f-dn ga-click\" data-cate=\"小黄条\" data-action=\"点击\" style=\"position:relative;z-index:300;\"></div>\\n<div id=\"j-activityRightBanner\" class=\"ga-click\" style=\"position:fixed;z-index:300;text-align:right;right: 16px;bottom:143px;\"></div>\\n<div id=\"j-appbanner\" style=\"position:relative;z-index:300;\"></div>\\n<div id=\"g-container\">\\n<div class=\"web-nav-container\">\\n<div class=\"m-navTop-func\">\\n<div class=\"m-navTop-func-i\">\\n<div class=\"u-navLogin-container\">\\n<div class=\"u-navLogin-logo new-nav-spoc-logo\">\\n<a href=\"//www.icourse163.org\" target=\"_top\">\\n<img width=\"190\" height=\"28\" src=\"//edu-image.nosdn.127.net/C0124E0336721FF65563B76A16A8143F.png?imageView&thumbnail=190y28&quality=100\">\\n</a>\\n</div>\\n<div class=\"e-hover-source u-navLogin-course\">\\n<a href=\"//www.icourse163.org/category/all\" target=\"_top\">\\n<span class=\"nav\">课程</span>\\n</a>\\n<div class=\"e-hover-target\">\\n<div class=\"e-hover-arrow\"></div>\\n<div class=\"e-hover-arrow-border\"></div>\\n<div class=\"e-hover-content\">\\n<div class=\"j-nav-CateBox u-cateBox-container\"></div>\\n</div>\\n</div>\\n</div>\\n<div class=\"u-navLogin-school\">\\n<a href=\"//www.icourse163.org/university/view/all.htm\" target=\"_top\">\\n<span class=\"nav\">名校</span>\\n</a>\\n</div>\\n<div class=\"u-navLogin-discuss\">\\n<a href=\"//kaoyan.icourse163.org\" target=\"_top\">\\n<span class=\"nav\">2019考研</span>\\n</a>\\n</div>\\n<div class=\" u-navLogin-cloud\">\\n<a href=\"//www.icourse163.org/spoc/schoolcloud/index.htm\" target=\"_blank\">\\n<span class=\"nav\">学校云</span>\\n</a>\\n</div>\\n<div class=\"j-kaoyan-link u-navLogin-kaoyan\">\\n<a href=\"//www.icourse163.org/forum/1001974001.htm\" target=\"_blank\">\\n<span class=\"nav\">学 · 问</span>\\n</a>\\n</div>\\n<div class=\"j-latest-mark u-navLogin-mark f-f0 f-dn\">\\n<span>新</span>\\n</div>\\n<div class=\"web-nav-right-part\">\\n<div class=\"u-navLogin-app\">\\n<img width=\"13\" height=\"21\" src=\"//edu-image.nosdn.127.net/03CC83FA97B35119DFB8C772754765CC.png?imageView&thumbnail=13y22&quality=100\">\\n</div>\\n<div class=\"e-hover-source u-navLogin-appText\">\\n<a href=\"//www.icourse163.org/mobile.htm?from=navibar&mobiletopbar=hidden\" target=\"_top\">\\n<span class=\"nav\">客户端</span>\\n</a>\\n<div class=\"e-hover-target\">\\n<div class=\"e-hover-arrow\"></div>\\n<div class=\"e-hover-arrow-border\"></div>\\n<div class=\"e-hover-content\">\\n<div class=\"u-app-download-container\">\\n<div class=\"u-app-tip\">\\n<span>扫码下载官方APP</span>\\n</div>\\n<div class=\"u-app-qrcode\">\\n<img width=\"140\" height=\"140\" src=\"//img-ph-mirror.nosdn.127.net/Rg6muO26iMOFWx9vwEHC-g==/6630234335885341999.png\">\\n</div>\\n<div class=\"u-app-iphone-link\">\\n<a href=\"//itunes.apple.com/cn/app/id977883304\" target=\"_blank\"></a>\\n</div>\\n<div class=\"u-app-android-link\">\\n<a href=\"//study.163.com/pub/ucmooc/ucmooc-android-official.apk\" target=\"_blank\"></a>\\n</div>\\n</div>\\n</div>\\n</div>\\n</div>\\n<div class=\"u-navLogin-searchFunc\">\\n<div class=\"u-navLogin-searchFunc-i\">\\n<div class=\"j-search-box u-search-container\">\\n<div class=\"j-input u-search-input\"></div>\\n<div class=\"u-search-icon\">\\n<span class=\"u-icon-search2 j-searchBtn\"></span>\\n</div>\\n</div>\\n</div>\\n</div>\\n<div class=\"u-navLogin-loginBox\">\\n<div class=\"u-navLogin-loginBox-i\">\\n<div class=\"m-navlinks\" id=\\'j-topnav\\'>\\n<div class=\"unlogin\">\\n<a class=\"f-f0 navLoginBtn\">登录<span class=\"huo\">&nbsp;&nbsp;|&nbsp;&nbsp;</span>注册</a>\\n</div>\\n</div></div>\\n</div>\\n</div>\\n</div>\\n</div>\\n</div>\\n</div><div id=\"g-body\"><div id=\"j-self-content\" class=\" top-box f-f0\">\\n<img class=\"top-bac f-dn\" id=\"j-top-back\" width=\"100%\" height=\"220\" src=\"//edu-image.nosdn.127.net/BCA790F6E742B8CBF078CA413D2ED7AD.png?imageView&thumbnail=1920y220&quality=100\">\\n</div>\\n<div id=\"j-mailNotice\" class=\"p-tp-email\">\\n</div>\\n<div id=\"j-home-content\" class=\"home-content\"></div>\\n</div>\\n<div class=\"g-wrap m-foot f-pr\" id=\"j-footer\">\\n<div class=\"g-flow f-cb\">\\n<div class=\"f1 f-fl\">\\n<div class=\"logo\"></div>\\n<p class=\"f-fc14 f-fc9\">由高教社联手网易推出，让每一个有提升愿望的用户能够学到中国知名高校的课程，并获得认证。</p>\\n</div>\\n<div class=\"f4 f-fr f-pr\">\\n<h4 class=\"f-fcc\">友情链接</h4>\\n<div class=\"f-cb\">\\n<a href=\"//kada.study.163.com/?inref=index_bottomlink\" target=\"_blank\" class=\"f-fc9 f4a\">网易卡搭</a>\\n<a href=\"//study.163.com/\" target=\"_blank\" class=\"f-fc9 f4a\">网易云课堂</a>\\n<a href=\"//100.163.com/\" target=\"_blank\" class=\"f-fc9 f4a\">网易100分</a>\\n</div>\\n</div>\\n<div class=\"f3 f-fr f-pr\">\\n<h4 class=\"f-fcc\">关注我们</h4>\\n<div class=\"f-cb\">\\n<a class=\"f-icon f-fc9 u-icon-weixin weixin gzIc f-pr f-fl\">\\n<div class=\"tipQrcode f-pa\">\\n<div class=\"qrImag\">\\n<img src=\"//edu-image.nosdn.127.net/ceff46a7-e151-4a3a-b208-90e41721870c.jpg?imageView&thumbnail=860y860&quality=100\" width=\"120px\" height=\"120px\" alt=\"加中M微信好友\">\\n</div>\\n<div class=\"tip f-pa\"></div>\\n</div>\\n</a>\\n<a href=\"//weibo.com/icourse163\" target=\"_blank\" class=\"f-icon f-fc9 gzIc f-fs1 f-fl u-icon-weibo weibo\"></a>\\n</div>\\n</div>\\n<div class=\"f2 f-fr f-pr\">\\n<h4 class=\"f-fcc\">关于我们</h4>\\n<div class=\"f-cb\">\\n<a href=\"/about/aboutus.htm\" target=\"_blank\" class=\"f-fc9 f2a\">关于我们</a>\\n<a href=\"/spoc/schoolcloud/index.htm\" target=\"_blank\" class=\"f-fc9 f2a\">学校云</a>\\n<a href=\"/about/contactus.htm#/contactus?type=2\" target=\"_blank\" class=\"f-fc9 f2a\">联系我们</a>\\n<a href=\"/help/help.htm\" target=\"_blank\" class=\"f-fc9 f2a\">常见问题</a>\\n<a href=\"/about/contactus.htm#/contactus?type=4\" target=\"_blank\" class=\"f-fc9 f2a\">意见反馈</a>\\n<a href=\"/about/contactus.htm#/contactus?type=5\" target=\"_blank\" class=\"f-fc9 f2a\">法律条款</a>\\n</div>\\n</div>\\n</div>\\n<div class=\"beian\"><p class=\"f-fc12 f-fc6\"> <a class=\"f-fc6\" target=\"_blank\" href=\"//www.miitbeian.gov.cn/state/outPortal/loginPortal.action\">粤B2-20090191-26</a> | 京ICP备12020869号-2 | <a class=\"f-fc6\" target=\"_blank\" href=\"//www.beian.gov.cn/portal/registerSystemInfo?recordcode=44010602000207\">京公网安备44010602000207</a> <br>©2014-2018 icourse163.org </p></div>\\n</div>\\n</div>\\n<script>\\nwindow.isNeedFillMemberInfo = false;\\nif(!location.search && window.webUser){\\nlocation.search = \"?userId=\"+ window.webUser.id;\\n}\\n</script>\\n<script onerror=\"javascript:window.errorEventHandler && window.errorEventHandler(event)\" src=\"//mc.stu.126.net/pub/s/core_e648649a02d29c0f33bf051f9ad25de7.js\"></script>\\n<script onerror=\"javascript:window.errorEventHandler && window.errorEventHandler(event)\" src=\"//mc.stu.126.net/pub/s/pt_web_home_825fa0a4445abf32b38741286613dc93.js\"></script>\\n</body>\\n</html>'"
      ]
     },
     "execution_count": 4,
     "metadata": {},
     "output_type": "execute_result"
    }
   ],
   "source": [
    "r.text  # http响应内容的字符串形式，url对应的页面内容"
   ]
  },
  {
   "cell_type": "code",
   "execution_count": 5,
   "metadata": {},
   "outputs": [
    {
     "data": {
      "text/plain": [
       "{'Server': 'nginx', 'Date': 'Sat, 20 Oct 2018 10:25:22 GMT', 'Content-Type': 'text/html;charset=UTF-8', 'Transfer-Encoding': 'chunked', 'Connection': 'keep-alive', 'Vary': 'Accept-Encoding', 'Server-Host': 'hzayq-study-mooc11', 'Set-Cookie': 'NTESSTUDYSI=6ee644f9fa15432c8b8715570dbc18fa; Domain=icourse163.org; Path=/, EDUWEBDEVICE=04825f9b7ff647e59b2dac18f170fd50; Domain=icourse163.org; Expires=Thu, 19-Oct-2023 10:25:22 GMT; Path=/', 'Content-Security-Policy': 'upgrade-insecure-requests', 'Content-Language': 'en-US', 'Content-Encoding': 'gzip'}"
      ]
     },
     "execution_count": 5,
     "metadata": {},
     "output_type": "execute_result"
    }
   ],
   "source": [
    "r.headers"
   ]
  },
  {
   "cell_type": "code",
   "execution_count": 6,
   "metadata": {},
   "outputs": [
    {
     "data": {
      "text/plain": [
       "b'<!DOCTYPE html>\\n<html xmlns=\"//www.w3.org/1999/xhtml\" xml:lang=\"zh\" lang=\"zh\">\\n<head>\\n<title>\\xe4\\xb8\\xad\\xe5\\x9b\\xbd\\xe5\\xa4\\xa7\\xe5\\xad\\xa6MOOC(\\xe6\\x85\\x95\\xe8\\xaf\\xbe)_\\xe4\\xbc\\x98\\xe8\\xb4\\xa8\\xe5\\x9c\\xa8\\xe7\\xba\\xbf\\xe8\\xaf\\xbe\\xe7\\xa8\\x8b\\xe5\\xad\\xa6\\xe4\\xb9\\xa0\\xe5\\xb9\\xb3\\xe5\\x8f\\xb0</title>\\n<meta http-equiv=\"content-type\" content=\"text/html;charset=utf-8\"/>\\n<link rel=\"shortcut icon\" href=\"//edu-image.nosdn.127.net/32a8dd2a-b9aa-4ec9-abd5-66cd8751befb.png?imageView&quality=100\" />\\n<meta http-equiv=\"x-dns-prefetch-control\" content=\"on\"/>\\n<meta http-equiv=\"Content-Security-Policy\" content=\"upgrade-insecure-requests\">\\n<link rel=\"dns-prefetch\" href=\"//s.stu.126.net\"/>\\n<link rel=\"dns-prefetch\" href=\"//icourse163.org/\"/>\\n<link rel=\"dns-prefetch\" href=\"//mc.stu.126.net\"/>\\n<link rel=\"dns-prefetch\" href=\"//mooc.study.163.com\"/>\\n<link rel=\"dns-prefetch\" href=\"//webzj.reg.163.com\"/>\\n<link rel=\"dns-prefetch\" href=\"//ursdoccdn.nosdn.127.net/\"/>\\n<link rel=\"dns-prefetch\" href=\"//nos.netease.com\"/>\\n<link rel=\"dns-prefetch\" href=\"//imgsize.ph.126.net\"/>\\n<link rel=\"dns-prefetch\" href=\"//img-ph-mirror.nosdn.127.net\"/>\\n<link rel=\"dns-prefetch\" href=\"//img-ph-mirror.nosdn.127.net\"/>\\n<link rel=\"dns-prefetch\" href=\"//img-ph-mirror.nosdn.127.net\"/>\\n<link rel=\"dns-prefetch\" href=\"//push.zhanzhang.baidu.com\"/>\\n<link rel=\"dns-prefetch\" href=\"//api.share.baidu.com\"/>\\n<link rel=\"dns-prefetch\" href=\"//js.passport.qihucdn.com\"/>\\n<link rel=\"dns-prefetch\" href=\"//s2.qhimg.com\"/>\\n<meta http-equiv=\"Pragma\" content=\"no-cache\"/>\\n<meta http-equiv=\"Cache-Control\" content=\"no-cache\" max-age=\"0\"/>\\n<meta http-equiv=\"X-UA-Compatible\" content=\"IE=edge\" />\\n<meta http-equiv=\"Expires\" content=\"0\"/>\\n<meta name=\"author\" content=\"Netease\"/>\\n<meta name=\"version\" content=\"1.0\"/>\\n<meta name=\"keywords\" content=\"\\xe4\\xb8\\xad\\xe5\\x9b\\xbd\\xe5\\xa4\\xa7\\xe5\\xad\\xa6MOOC,MOOC,\\xe6\\x85\\x95\\xe8\\xaf\\xbe,\\xe5\\x9c\\xa8\\xe7\\xba\\xbf\\xe5\\xad\\xa6\\xe4\\xb9\\xa0,\\xe5\\x9c\\xa8\\xe7\\xba\\xbf\\xe6\\x95\\x99\\xe8\\x82\\xb2,\\xe5\\xa4\\xa7\\xe8\\xa7\\x84\\xe6\\xa8\\xa1\\xe5\\xbc\\x80\\xe6\\x94\\xbe\\xe5\\xbc\\x8f\\xe5\\x9c\\xa8\\xe7\\xba\\xbf\\xe8\\xaf\\xbe\\xe7\\xa8\\x8b,\\xe7\\xbd\\x91\\xe7\\xbb\\x9c\\xe5\\x85\\xac\\xe5\\xbc\\x80\\xe8\\xaf\\xbe,\\xe8\\xa7\\x86\\xe9\\xa2\\x91\\xe5\\x85\\xac\\xe5\\xbc\\x80\\xe8\\xaf\\xbe,\\xe5\\xa4\\xa7\\xe5\\xad\\xa6\\xe5\\x85\\xac\\xe5\\xbc\\x80\\xe8\\xaf\\xbe,\\xe5\\xa4\\xa7\\xe5\\xad\\xa6mooc, icourse163,\\xe6\\x85\\x95\\xe8\\xaf\\xbe\\xe7\\xbd\\x91, MOOC\\xe5\\xad\\xa6\\xe9\\x99\\xa2\"/>\\n<meta name=\"description\" content=\"\\xe4\\xb8\\xad\\xe5\\x9b\\xbd\\xe5\\xa4\\xa7\\xe5\\xad\\xa6MOOC(\\xe6\\x85\\x95\\xe8\\xaf\\xbe) \\xe6\\x98\\xaf\\xe7\\x88\\xb1\\xe8\\xaf\\xbe\\xe7\\xa8\\x8b\\xe7\\xbd\\x91\\xe6\\x90\\xba\\xe6\\x89\\x8b\\xe7\\xbd\\x91\\xe6\\x98\\x93\\xe4\\xba\\x91\\xe8\\xaf\\xbe\\xe5\\xa0\\x82\\xe6\\x89\\x93\\xe9\\x80\\xa0\\xe7\\x9a\\x84\\xe5\\x9c\\xa8\\xe7\\xba\\xbf\\xe5\\xad\\xa6\\xe4\\xb9\\xa0\\xe5\\xb9\\xb3\\xe5\\x8f\\xb0\\xef\\xbc\\x8c\\xe6\\xaf\\x8f\\xe4\\xb8\\x80\\xe4\\xb8\\xaa\\xe6\\x9c\\x89\\xe6\\x8f\\x90\\xe5\\x8d\\x87\\xe6\\x84\\xbf\\xe6\\x9c\\x9b\\xe7\\x9a\\x84\\xe4\\xba\\xba\\xef\\xbc\\x8c\\xe9\\x83\\xbd\\xe5\\x8f\\xaf\\xe4\\xbb\\xa5\\xe5\\x9c\\xa8\\xe8\\xbf\\x99\\xe9\\x87\\x8c\\xe5\\xad\\xa6\\xe4\\xb9\\xa0\\xe4\\xb8\\xad\\xe5\\x9b\\xbd\\xe4\\xbc\\x98\\xe8\\xb4\\xa8\\xe7\\x9a\\x84\\xe5\\xa4\\xa7\\xe5\\xad\\xa6\\xe8\\xaf\\xbe\\xe7\\xa8\\x8b\\xef\\xbc\\x8c\\xe5\\xad\\xa6\\xe5\\xae\\x8c\\xe8\\xbf\\x98\\xe8\\x83\\xbd\\xe8\\x8e\\xb7\\xe5\\xbe\\x97\\xe8\\xae\\xa4\\xe8\\xaf\\x81\\xe8\\xaf\\x81\\xe4\\xb9\\xa6\\xe3\\x80\\x82\\xe4\\xb8\\xad\\xe5\\x9b\\xbd\\xe5\\xa4\\xa7\\xe5\\xad\\xa6MOOC\\xe6\\x98\\xaf\\xe5\\x9b\\xbd\\xe5\\x86\\x85\\xe4\\xbc\\x98\\xe8\\xb4\\xa8\\xe7\\x9a\\x84\\xe4\\xb8\\xad\\xe6\\x96\\x87MOOC\\xe5\\xad\\xa6\\xe4\\xb9\\xa0\\xe5\\xb9\\xb3\\xe5\\x8f\\xb0\\xef\\xbc\\x8c\\xe6\\x8b\\xa5\\xe6\\x9c\\x89\\xe4\\xbc\\x97\\xe5\\xa4\\x9a985\\xe9\\xab\\x98\\xe6\\xa0\\xa1\\xe7\\x9a\\x84\\xe5\\xa4\\xa7\\xe5\\xad\\xa6\\xe8\\xaf\\xbe\\xe7\\xa8\\x8b\\xef\\xbc\\x8c\\xe4\\xb8\\x8e\\xe5\\x90\\x8d\\xe5\\xb8\\x88\\xe9\\x9b\\xb6\\xe8\\xb7\\x9d\\xe7\\xa6\\xbb\\xe3\\x80\\x82\"/>\\n<meta name=\"robots\" content=\"all\"/>\\n<meta name=\"360-site-verification\" content=\"92d0cfcc97ca254f26fcc0586fa319b6\" />\\n<meta name=\"sogou_site_verification\" content=\"kFeGWcT6tD\"/>\\n<meta name=\"baidu-site-verification\" content=\"BYFmFBILbh\" />\\n<meta name=\"shenma-site-verification\" content=\"8ef752d11066ef909303c078d32230d6_1456214698\">\\n<meta property=\"wb:webmaster\" content=\"981d7778ffe598a6\" />\\n<meta property=\"qc:admins\" content=\"2206160020613752351636727736372561577477166045\" />\\n<script>location.config = {root:\\'/pub/h/\\',mode:1,ver:{\"about/shared/modules/about/index.html\":\"72228fad8a9f2b09e5b918e5f0562751\",\"activities/mooc4year/wap/components/mooc4year-act/component.html\":\"39160ed385a86959ec7e8cf9f998bcfc\",\"activities/mooc4year/wap/components/mooc4year-actadd/component.html\":\"8b861dafe65eff9ad07a1ea3d83aa0a7\",\"activities/mooc4year/wap/components/mooc4year-actindex/component.html\":\"49369dd606109410c1a63c7de5862336\",\"activities/mooc4year/wap/components/mooc4year-actrank/component.html\":\"2c0dfe0771d3202183aba861527e32eb\",\"activities/mooc4year/web/components/mooc4year-act/component.html\":\"7fd5d8d0dc4ad0bc05b915962f06d707\",\"activities/mooc4year/web/components/mooc4year-actadd/component.html\":\"f9c0563b87aa605690c97637a8d202c5\",\"activities/mooc4year/web/components/mooc4year-actindex/component.html\":\"1ffce0b170399ac0ebda4e5e2ae528f3\",\"activities/mooc4year/web/components/mooc4year-actrank/component.html\":\"dbefa56a38af15de70c677800d732b77\",\"category/index/desktop/components/courseCardBox/courseCardBox.html\":\"846440eba185e49ccc9a5b917454626a\",\"category/index/desktop/components/courseCardList/courseCardList.html\":\"ecd4375293ff517683c38252d77da271\",\"category/index/desktop/components/courseCardList/courseCardTemplate.html\":\"966f9a9813969215b9cf67604b447f4d\",\"category/index/desktop/components/nav/nav.html\":\"44ea11cc30a079eca97fb1f63774b740\",\"category/index/desktop/components/sideBar/sideBar.html\":\"8f44054a7cef28976b8cd86995a7b0ee\",\"category/index/desktop/components/tagBar/tagBar.html\":\"300639bfa580e612e8487943dbdcee8f\",\"category/index/mobile/components/courseCardBox/courseCardBox.html\":\"8f08a62d385f9286ceda6e28ac19d968\",\"category/index/mobile/components/courseCardList/courseCardList.html\":\"ecd4375293ff517683c38252d77da271\",\"category/index/mobile/components/courseCardList/courseCardTemplate.html\":\"2a8bf00a68316ea5e41a2b9ff25b85ef\",\"category/index/mobile/components/scrollPager/component.html\":\"370b07f7c10ce1e30702ef8b74b06d10\",\"category/index/mobile/components/specialDisplayUI.html\":\"e147ebace33b4d2b1f7cbad6b989ff7a\",\"category/index/mobile/components/wapCateNavList.html\":\"209800efeda9a961b06a66f8ec8063ba\",\"category/index/mobile/components/wapCateWrapUI.html\":\"0e5c665fdc0c0f167d650ea8905a6ee5\",\"category/index/mobile/components/wapCourseCard.html\":\"be724e681925ecdcdf86745bb21b4cd6\",\"category/index/mobile/components/wapCourseList.html\":\"93f554561b4b1dafe6768cff2f974829\",\"cert/shared/modules/apply/index.html\":\"f7f0b265413aea83115044122bca5a6e\",\"cert/shared/modules/certDesign/index.html\":\"4536df7ad3ad26eadc6ed5fe0e770fb4\",\"cert/shared/modules/verify/index.html\":\"6607572744854c8717c9353c11fb7ff0\",\"column/audioContent/articleSnapUp/mobile/components/shared-article-snap-up/component.html\":\"4a364e2ad2afa7a2bb06b9c0939601ab\",\"column/audioContent/articleSnapUp/mobile/components/subscribe-button/component.html\":\"61e0937991f6ff24f0055fe7d61b8ddf\",\"column/freeArticles/mobile/components/free-articles/component.html\":\"31f51866eae902698b79799f08c7296f\",\"column/intro/mobile/components/call-app-banner-wrapper/component.html\":\"edfaa201cd75f5a651203dfa2671cee0\",\"column/shared/components/action-buttons/component.html\":\"5df4ff51c858af29ea8054b8d91cf96a\",\"column/shared/components/audio-content/wap/component.html\":\"09c3e0c477695661d4fd925c7351788f\",\"column/shared/components/audio-content/web/component.html\":\"c23fc3da822402298b0f434634f5c427\",\"column/shared/components/audio-player/wap/component.html\":\"56df8a627c34355a02c5b1e15a68ee0d\",\"column/shared/components/audio-player/web/component.html\":\"1250781dec8a3803b718bde9c071d98c\",\"column/shared/components/order-modal/component.html\":\"b445a081c48033fe48b2da4e6ac634df\",\"column/shared/components/selected-comments/component.html\":\"81374f7e014c5e19483e6c8f25f98c9f\",\"course/intro/desktop/components/moocModal/index.html\":\"8395bd309f3a1d66e0b1b0bbf1bdc411\",\"course/intro/desktop/components/scholarNotifyModal/index.html\":\"65973f21256483b51a7e17ca1f0420b7\",\"course/intro/desktop/modules/info/index.html\":\"6eb98345d1cdd759ca1801f8279e5b01\",\"course/intro/mobile/modules/courseDetail/index.html\":\"def98ad2fc2060b5e3e75d4a28cde2e5\",\"course/intro/shared/components/breadcrumb/web/component.html\":\"85fcd920fd7851791c39a1fa40b0bfd7\",\"course/intro/shared/components/course-enroll-info/web/component.html\":\"689aa4b1be8e094578b563ca93c9675c\",\"course/intro/shared/components/term-password-modal/web/component.html\":\"c13637d050dfe73f1329c2eaf943ff02\",\"donate/course/desktop/modules/donate/index.html\":\"ba9b3eb8ca19f57b7780314aea5b457a\",\"error/systemError/shared/modules/error/index.html\":\"7a959ae96fb393f53dff84c17f594c1a\",\"forum/index/shared/components/forum/index.html\":\"d871c0fe60e6f9d4a376b36562bff332\",\"forum/newPost/shared/components/publish/index.html\":\"20a37b467ec697018de8059d7ecf10d9\",\"forum/person/shared/components/personWrapper/index.html\":\"f96555a8aa9e7429e59176fd448267a7\",\"forum/person/shared/components/rcList/index.html\":\"27c0369019a36575b22608b468b5d1f0\",\"forum/person/shared/components/simplePersonUI/index.html\":\"10d2a1a38d88bd6d607b054dc050d376\",\"forum/shared/components/forumItem/index.html\":\"c4db1293bfb8152a9792733a39a0cf29\",\"forum/shared/components/forumList/index.html\":\"842b36e03df8b09a820a6c2b9d31e83c\",\"forum/shared/components/personUI/index.html\":\"da09fa8937527e4b661c6c6bc5c0a8b6\",\"forum/topic/desktop/components/commentItem.html\":\"5fab9ff563fffcf959e056e9fba2c3eb\",\"forum/topic/desktop/components/commentList.html\":\"3e6aff50e0bf2b1526b61adfb68d0500\",\"forum/topic/desktop/components/hoverManageList.html\":\"9bca3690e40c7404c9625503c0a26575\",\"forum/topic/desktop/components/replyItem.html\":\"14cda4788539108760062fb989f63e8f\",\"forum/topic/desktop/components/replyList2.html\":\"2d4c784cda2a82480cbeed010d87c0a1\",\"forum/topic/desktop/components/selectTagModal.html\":\"4d4a241fadf8bdc953fc417fba969c4b\",\"forum/topic/desktop/components/setTopTagModal.html\":\"8f3c00ced5695bd2aed9d440f58dd065\",\"help/help/desktop/modules/helpFront/index.html\":\"11ab940d0ddbecf0e17e1f6af639a9bf\",\"help/manageHelp/desktop/modules/helpBack.html\":\"c4aab2a8f19ef80598fff0007cbcd996\",\"home/desktop/components/certCard/component.html\":\"3fde956421541ad8b9a866602acfb258\",\"home/desktop/components/coursePanel/coursePanel.html\":\"4cc151de6818848af27d7fa7b1dd704f\",\"home/desktop/components/coursePanel/coursePanelBody/component.html\":\"5bfb275b140ffd733574ab4885b8c42a\",\"home/desktop/components/coursePanel/coursePanelBody/courseCard/component.html\":\"30949e33aed5411525c470fae194210f\",\"home/desktop/components/enrolledCourse/enrolledCourse.html\":\"38a4f0828fcf297c7b5e952680156214\",\"home/desktop/components/enrolledCourse/enrolledCourseBody/component.html\":\"5a62601516e70c7e0dc8e2c30779e80f\",\"home/desktop/components/enrolledCourse/enrolledCourseBody/enrolledCourseCard/component.html\":\"e77fe9d68187dd0ed8a3f0b9e09ca233\",\"home/desktop/components/otherLearn/component.html\":\"327ca7b69910500a820be81414364ca6\",\"home/desktop/components/personalProfileGuide/fillPersonalIntro.html\":\"c71ea4bb713cdaee313a2b485f495a68\",\"home/desktop/components/personalProfileGuide/personalProfileGuide.html\":\"d1174fbc1f2953b6d73982086c11f313\",\"home/desktop/components/personalProfileGuide/selectEducation.html\":\"28ea4713d74a241952fd733b4e74b7e0\",\"home/desktop/components/personalProfileGuide/selectOccupation.html\":\"5fe31611ae753d189198bcdeeb0dd32f\",\"home/desktop/components/personalProfileGuide/selectProfileType.html\":\"b89f06361f96312412a60c02ec53b8c3\",\"home/desktop/components/userInfoTop/component.html\":\"108d28569456bbcc997cb703ca6b63dd\",\"home/desktop/modules/course/index.html\":\"8e884464e9da812c6a7ed7a9fa4e24f8\",\"home/desktop/modules/discuss/index.html\":\"91776ceed112fc01c8ffbd35663407d6\",\"home/desktop/modules/index/index.html\":\"e19e1782fc30ba55a583db948b73dfae\",\"home/desktop/modules/mycert/index.html\":\"a33b5236bf64059e0b882311aec3e720\",\"home/desktop/modules/selfIntro/index.html\":\"ea3b1ec526469810ec1a0d5b07619268\",\"home/desktop/modules/spocCourse/index.html\":\"cd50699741b07416473f0bfee382b0e6\",\"index/desktop/components/columnList/component.html\":\"69446f4e24b1a714a1594da3bf00b5db\",\"index/desktop/components/courseRecent3/component.html\":\"74f9b4606f703f5142f6248e055992c5\",\"index/desktop/components/discussBox/component.html\":\"606b5910de97e0f540e5f608fe78a27f\",\"index/desktop/components/imageBox/component.html\":\"3046c0be509b7935c263a83ed89d3b74\",\"index/desktop/components/indexStudent/component.html\":\"3c926bd4e6cbc699f9deb1d8a03e89a1\",\"index/desktop/components/myCloudeGuide/component.html\":\"d755c43ed2b315177859ad3eddf82a6d\",\"index/desktop/components/recCourse/component.html\":\"adf94f939b340bf5f237b77e2cfcf088\",\"index/desktop/components/selfDefine/component.html\":\"5be95006c532b903594c2f9377c4999b\",\"index/mobile/components/category/component.html\":\"2cb34ae713958abe02c7c96277bc7690\",\"index/mobile/components/courseCard/component.html\":\"bf14d12f90e7619a4e70dd9b50cb67f1\",\"index/mobile/components/courseList/component.html\":\"79f2213636037a60ecdb8ed34e26ecf5\",\"index/mobile/components/courseLists/component.html\":\"f39bf35f1bb469b70a4634bc132f1e87\",\"index/mobile/components/nav/component.html\":\"170a335c7cc5115d1ff7a1ad80c1e63d\",\"junwei-app-course/courseDetail/mobile/components/course-detail-buy/component.html\":\"6740798f3fd0140b11efdc14078a916e\",\"junwei-app-course/courseDetail/mobile/modules/courseDetail/index.html\":\"ff043ecc494230e0f38321e0dc72379b\",\"junwei-app-course/courseLearn/mobile/modules/courseLearn.html\":\"445142ff2b7b1621e2e9140bcf7021ed\",\"learn/forum/mobile/components/commentItem.html\":\"a33233212a5a98441324870fcf39e748\",\"learn/forum/mobile/components/replyItemUI.html\":\"c17012beb044cc89bc4c46169ea28271\",\"learn/forum/mobile/components/wapForumDetailUI.html\":\"f7bc0f533e275f008038763167dcdab6\",\"learn/index/desktop/components/common/notice.html\":\"0e5ccbe4016398fb6daabf914ba869ce\",\"learn/index/desktop/components/lessonLiveWrapper/component.html\":\"3529fb785dbe0915c7efdf4877405539\",\"learn/index/desktop/modules/learn/content.html\":\"05921cf5d3f7bdc89a538706695d4965\",\"learn/index/desktop/modules/learn/exam.html\":\"a84e587258676b89b4a955494f14c799\",\"learn/index/desktop/modules/learn/forum.html\":\"3f6c18d558584c2bf235ae4913ab19a3\",\"learn/index/desktop/modules/learn/homework.html\":\"66b395dc4854060fccc425381528f052\",\"learn/index/desktop/modules/learn/notEnroll.html\":\"759db38aabedaf17a32ad1df9cc1e737\",\"learn/index/desktop/modules/learn/oj.html\":\"d90be061c80aa24f7a6b53984f66746c\",\"learn/index/desktop/modules/learn/task.html\":\"adb8912f0653e3525bad01c20ce2a105\",\"learn/index/desktop/modules/learn.html\":\"4a52d196be8780600e785b92e9d8f62c\",\"learn/video/mobile/components/wapLearnVideoUI.html\":\"a67b0a6b3c81e10234531eb470e2fdbd\",\"live/liveRoom/desktop/components/startLiveModal/startLiveBody/component.html\":\"e1805788edfdb576468f42d15d86db44\",\"live/liveRoom/desktop/module/module-live-room/src/component/instruction-modal/web/component.html\":\"2956dfd2e0ebd4cadc9ad0bc3d771560\",\"live/liveRoom/desktop/module/module-live-room/src/component/room-list-view/component.html\":\"8f725ccb51e6c2439d0f92906fab3d55\",\"live/liveRoom/desktop/module/module-live-room/src/component/start-modal-wrapper/web/component.html\":\"8995a4d4ace6cf0396460cad2f0ce73a\",\"live/liveRoom/desktop/module/module-live-room/src/live-room/index.html\":\"31507f5bdad0a5a4600fd206e920d34a\",\"live/openLive/desktop/components/livePresenterInfo/component.html\":\"fa4cdc96c617adb45ef9ecb52e672e1c\",\"live/openLive/desktop/components/liveWrap/component.html\":\"5cd369d96ba6fa04a45ab559c367d584\",\"live/openLive/desktop/components/openLiveWrapper/component.html\":\"49ac11324a9418b66c85ff2959da25a5\",\"live/openLive/desktop/components/openLiveWrapper/liveInfoHead/component.html\":\"a19ce7429259d2d27d51f14cd3a3a6e9\",\"live/openLive/mobile/components/liveNotExistUI.html\":\"554f44d6c92f0bab1eb81cbbfe550999\",\"live/openLive/mobile/components/marketing-content-entry/component.html\":\"810e29cf6e79dd06916c29d6ac93798f\",\"live/openLive/mobile/components/marketing-content-list-modal/component.html\":\"f60d49ef35de980c461c490c14b2b2da\",\"live/openLive/mobile/components/mobile-live-wrap/component.html\":\"79efaf1806ccb9c159fb10a5fc814541\",\"live/openLive/mobile/components/playBackUI.html\":\"75d1db6499c40c77156e94721fe4200f\",\"live/openLive/mobile/modules/index.html\":\"6dd3e88e3018e18a2b0da661269227f6\",\"live/openLive/mobile/modules/playBack.html\":\"3210b6b048120f1ba885c4754d0d0964\",\"live/openLive/shared/components/live-subscription/wap/component.html\":\"6236758eaa408c9633a7b1769818619c\",\"live/openLive/shared/components/live-subscription/web/component.html\":\"97d3e47b91aab58e9201de0b86d562d5\",\"member/addMemberInfo/desktop/modules/addMember/index.html\":\"9a6af270a7623f0da177f2bdb56b3138\",\"member/addMemberInfo/mobile/components/memberInfo/component.html\":\"b537b8e7ed98d5521fd207caac960cde\",\"member/icourseLogin/desktop/modules/icourseLogin/index.html\":\"4b2a047e67d9df5192b9a538888b29e3\",\"member/login/desktop/components/icourse-login-form/wap/component.html\":\"b56a753eda5bb5051688a490cca10df9\",\"member/login/desktop/components/icourse-login-form/web/component.html\":\"146cf4f3a0b6a705a62f7d01aef762b4\",\"member/login/desktop/components/mooc-login-page/web/component.html\":\"ea838506692f2579dd7608344616562b\",\"member/login/desktop/components/mooc-login-set/web/component.html\":\"3ad20a7431c07e59fca2cd69f1f01430\",\"member/login/desktop/components/mooc-regist-wrap/web/component.html\":\"073de1a0b2a05b97a050b2036f6697b1\",\"member/login/desktop/components/regist-wrap-pro/web/component.html\":\"aabbfeddb1342b5d780be59974ff459a\",\"member/login/desktop/modules/loginIndex/index.html\":\"385807d8039e5d10a26e495c8eb0d9fe\",\"member/login/mobile/components/login-set-wap-pro/wap/component.html\":\"0a9ebe60ebf100988648a736d08f72d4\",\"member/login/mobile/modules/loginEmail/index.html\":\"c1a1bf19c6857f7227fa546bc3dd8f62\",\"member/login/mobile/modules/loginIcourse/index.html\":\"70aee99de5be5a70e638a28dc722c887\",\"member/login/mobile/modules/loginIndex/index.html\":\"4f9cf98bb037dab2a6608448665eb4fe\",\"member/login/mobile/modules/loginTel/index.html\":\"f60062389f2b5d0419d88d42ccfda342\",\"member/login/mobile/modules/registTel/index.html\":\"9cc06dd7b0bea90190a9f4863fe37970\",\"member/shared/modules/login/index.html\":\"0484c29198affb16061b3676f7987165\",\"member/ursLogin/desktop/modules/ursLogin/index.html\":\"b8d2f3b740538aa12a6ed40bd3f58226\",\"order/index/components/address/component.html\":\"7f47ff212f79530c850a6e6b4cb71c2a\",\"order/index/components/confirm/component.html\":\"1140f339e067c7bf36ec0dba86ca9795\",\"order/index/components/tel-info/component.html\":\"4d18e1800a21c5c83b0d6b0bf8b59a1f\",\"order/payOrder/desktop/modules/order/index.html\":\"c8c72a4e0734e9e5810426e447f3f887\",\"pay/index/desktop/components/pay-content/component.html\":\"a4d53cab94ebf3401770f9c7246a38e9\",\"pay/index/desktop/components/wxpay-content/component.html\":\"7c6793cab9b91c8f7c51ecca67fe275a\",\"pay/order/desktop/modules/pay/index.html\":\"6487f887ee0c95d0f2b8a29c2fe28089\",\"practice/practicePage/mobile/components/objectItem.html\":\"e961ed0aca4d1da8431dd1fa2365c090\",\"practice/practicePage/mobile/components/objectPage.html\":\"e93ab417023fbec37aaee4e2d5a843c6\",\"scholarship2017/course/desktop/components/category-card/category-card.html\":\"b9444aba785ad2b383349c3fd08cb8ee\",\"scholarship2017/course/desktop/components/category-cards/category-cards.html\":\"6db04fc4857acf2ea3799b77a42e479d\",\"scholarship2017/course/desktop/components/category-tags/category-tags.html\":\"27c9e3729f88ff7651879f50c75847df\",\"scholarship2017/course/mobile/components/category-card/category-card.html\":\"1c1c60058442fa27aabe410118e9e266\",\"scholarship2017/course/mobile/components/category-cards/category-cards.html\":\"6db04fc4857acf2ea3799b77a42e479d\",\"scholarship2017/course/mobile/components/category-tags/category-tags.html\":\"27c9e3729f88ff7651879f50c75847df\",\"scholarship2017/index/shared/components/awards/wap/component.html\":\"3a477922c123ded8c4205d430a485abf\",\"scholarship2017/index/shared/components/awards/web/component.html\":\"2c8ee3b9517ddfbea1bc514c92754342\",\"scholarship2017/index/shared/components/common-questions/wap/component.html\":\"3424a8e317f397db6d929f8f6f9be075\",\"scholarship2017/index/shared/components/common-questions/web/component.html\":\"1a1afbb83397cf8d719035cdca002cd7\",\"scholarship2017/index/shared/components/course-assessment/wap/component.html\":\"beea39a091a52ad3a6503d0ef6242245\",\"scholarship2017/index/shared/components/course-assessment/web/component.html\":\"c2ff448f9073b7971d5974d8aa1d147a\",\"scholarship2017/index/shared/components/custom-activity/wap/component.html\":\"c2502638cd9c3e9d2c650a80e5f62edb\",\"scholarship2017/index/shared/components/custom-activity/web/component.html\":\"f135ae27dd7bc95c4e303fe38313e909\",\"scholarship2017/index/shared/components/index/wap/component.html\":\"d2a171c73d6106fbc1be4486f92f2df5\",\"scholarship2017/index/shared/components/index/web/component.html\":\"608f9eb66bc1e316930d665c8146856e\",\"scholarship2017/index/shared/components/invite-friends/components/invite-friends-modal/wap/component.html\":\"d28ac8176bb0c8c7b1fc0c88a5448b66\",\"scholarship2017/index/shared/components/invite-friends/components/invite-friends-modal/web/component.html\":\"8a95d2ced0f89a81154e60d01d980bf4\",\"scholarship2017/index/shared/components/invite-friends/wap/component.html\":\"12435f1470234c22c25c1961b3275d80\",\"scholarship2017/index/shared/components/invite-friends/web/component.html\":\"9c0b7d59767a8e3ca9ef091751dccfd0\",\"scholarship2017/index/shared/components/learning-goals/components/acquire-extra-bonus-modal/wap/component.html\":\"048ad4a2221239c46a6ef65bf0dec101\",\"scholarship2017/index/shared/components/learning-goals/components/acquire-extra-bonus-modal/web/component.html\":\"b4818a094df58ea98ead1c31d5d436a9\",\"scholarship2017/index/shared/components/learning-goals/components/radial-progress/wap/component.html\":\"aebb6b750dc648bd7a6f41867924990d\",\"scholarship2017/index/shared/components/learning-goals/components/radial-progress/web/component.html\":\"0529fdc3e4d1bdcc6c05388466accf23\",\"scholarship2017/index/shared/components/learning-goals/components/set-goals-modal/wap/component.html\":\"ad862051b01817d4aa6ee1ce02d09610\",\"scholarship2017/index/shared/components/learning-goals/components/set-goals-modal/web/component.html\":\"e9824b1d8ffd47826fe8664bcd421031\",\"scholarship2017/index/shared/components/learning-goals/wap/component.html\":\"408f2ce9f01e320ed1d92d48971773b9\",\"scholarship2017/index/shared/components/learning-goals/web/component.html\":\"a422904f04a197be9da28d421ff136b4\",\"scholarship2017/index/shared/components/personal-info-header/wap/component.html\":\"91f908e9a7dfb1d05d69238648907e5c\",\"scholarship2017/index/shared/components/personal-info-header/web/component.html\":\"2db22ff864bac3933f8c14dccf7ac17d\",\"scholarship2017/index/shared/components/rules/wap/component.html\":\"1627617b3fec74c28a18cfaf74fa11e0\",\"scholarship2017/index/shared/components/rules/web/component.html\":\"71371291e4db2fd695bfc69713a3842b\",\"scholarship2017/index/shared/components/shared/components/panel-wrapper/wap/component.html\":\"f87767cb400e87250175d95de2ee0c3f\",\"scholarship2017/index/shared/components/shared/components/panel-wrapper/web/component.html\":\"7394877b6c27c89a0147219f52d4de19\",\"scholarship2017/rank/desktop/components/rank/rank-final/index.html\":\"09fc2748cf9f5e8d8ba55ee5ccfd9892\",\"scholarship2017/rank/desktop/components/rank/rank-invite/index.html\":\"74aef8d33a2e927df0dafba5b77b5a04\",\"scholarship2017/rank/desktop/components/rank/rank-month/index.html\":\"6750b5a88ad51e1bd6f1d160d1d8443d\",\"scholarship2017/rank/desktop/components/rank/rank.html\":\"20f9f4c7e9275792e36b0d182ec15998\",\"scholarship2017/rank/mobile/components/rank/rank-final/index.html\":\"4bbaa95e81df7e775e9673323330e6dc\",\"scholarship2017/rank/mobile/components/rank/rank-invite/index.html\":\"6e19e1ef9a5b78f497c63d1e8ef12365\",\"scholarship2017/rank/mobile/components/rank/rank-month/index.html\":\"7b2f99514da00cee38b27516614ae53f\",\"scholarship2017/rank/mobile/components/rank/rank.html\":\"2d33d40d3eb4e4bd851d9530fa517c72\",\"scholarship2017/shared/components/modal-share-card/wap/component.html\":\"cf0ee5bd33aed3251023ca37cc341f7c\",\"scholarship2017/shared/components/modal-share-card/web/component.html\":\"04f9948e2807cd5978e1263408b78ee0\",\"scholarship2017/shared/components/scholarship-head/component.html\":\"6750880d60a112c876571f472f59b76c\",\"scholarship2017/shared/components/scholarship-head/components/tabs/wap/component.html\":\"34bf69ddb9ac68e93e265448671dffad\",\"scholarship2017/shared/components/scholarship-head/components/tabs/web/component.html\":\"1382c978e789added44196b6c286614b\",\"scholarship2017/shared/components/share-ship-embedded/web/component.html\":\"e3a638463c186277f93743950ce58deb\",\"scholarship2017/shared/components/tooltip/wap/component.html\":\"ef96bbde8a756340291b30e62db5acec\",\"scholarship2017/shared/components/tooltip/web/component.html\":\"e41055f8c761ec8d4debe4a42863772b\",\"scholarship2017/team/shared/components/influence-list/wap/component.html\":\"af8b634c21c02ced77a5c53b3007ba6a\",\"scholarship2017/team/shared/components/influence-list/web/component.html\":\"084edebae68f994f97cc5b16f4566151\",\"scholarship2017/team/shared/components/myteam-info/wap/component.html\":\"0b56989716301f1483c913d42fee08d5\",\"scholarship2017/team/shared/components/myteam-info/web/component.html\":\"aa23d1dc9094cc836e0335c6c5a109ec\",\"scholarship2017/team/shared/components/team-card/wap/component.html\":\"66b2cfa56546c09a39a9048f14581a81\",\"scholarship2017/team/shared/components/team-card/web/component.html\":\"0161a08f04b218cea29fbe6185e7a385\",\"scholarship2017/team/shared/components/team-create/wap/component.html\":\"d6e3c5aa1e77727269ce2c00d85f62e2\",\"scholarship2017/team/shared/components/team-create/web/component.html\":\"3d849298b3f2a158e7fbb580c9c485e8\",\"scholarship2017/team/shared/components/team-info-modal/wap/component.html\":\"a4b4799bf1fa84af2cb723b55ea89960\",\"scholarship2017/team/shared/components/team-info-modal/web/component.html\":\"a4b4799bf1fa84af2cb723b55ea89960\",\"scholarship2017/team/shared/components/team-list/wap/component.html\":\"be72c5d6031231be2df22033e1ed288a\",\"scholarship2017/team/shared/components/team-list/web/component.html\":\"85e1bc814652ad3b9acf67ddd2f495dc\",\"scholarship2017/team/shared/components/team-rank/wap/component.html\":\"448044f4cfefbd55eb4b8ca3815f0690\",\"scholarship2017/team/shared/components/team-rank/web/component.html\":\"8e22da061c43daf0c6bdf53dd84a0f59\",\"search/mobile/components/searchBox/component.html\":\"4335b0085afc3e7da8fa71d8935a5cd7\",\"shared/components/IE8Supported/IE8Notice.html\":\"33bf194a5657717209898a9c9cac8192\",\"shared/components/affix/component.html\":\"2c4fb63f394ab5e33750eff209d71ef0\",\"shared/components/appCallBanner/appCallBanner.html\":\"ea9c54d8945c3719f91ef1dcbd2c9e2b\",\"shared/components/banUserModal/wap/component.html\":\"c2055b5311c7c5e05a1832832590173c\",\"shared/components/banUserModal/web/component.html\":\"acdc078b8c52a071e75d040a554dff2a\",\"shared/components/baseui/commonui.html\":\"2f8dcb599a6fbef87ac77663f058d71c\",\"shared/components/bind-phone-modal/wap/component.html\":\"0f4f73c1975b818ad7f31a22a42f4000\",\"shared/components/bind-phone-modal/web/component.html\":\"04f120ae2a04cc79a765381e9da994ce\",\"shared/components/call-app-banner/component.html\":\"61a2380be90eb0fb73dad1a6bf00ca77\",\"shared/components/card/baseCourseCard/baseCourseCard.html\":\"300639bfa580e612e8487943dbdcee8f\",\"shared/components/card/courseCardWithTime/component.html\":\"f0600ebddef84a17a1c8dc30bc58f18f\",\"shared/components/card/discussCardWithDetail/component.html\":\"8273f3ee01e020d53ffdcdee027a30ce\",\"shared/components/card/discussCardWithQuote/component.html\":\"5a4fb19341b9886082630ecb67e41329\",\"shared/components/card/liveCard/component.html\":\"ad5ecb64bad783aa5e92090c7e0acc98\",\"shared/components/card/selfDefineNoDiscuss/component.html\":\"be7f3688a2ffa6ed28f706cd94ea6cf1\",\"shared/components/card/selfDefineWithDiscuss/component.html\":\"a0e35c97bd93d5510dfb71253cf62cc1\",\"shared/components/card/spocBaseCourseCard/component.html\":\"ca67e39685e8774d31ba7b8278938a1a\",\"shared/components/card/studentCard/component.html\":\"e79e74ea94a6e6deb2c7c2953c1c4397\",\"shared/components/course/spocCourseList/wap/component.html\":\"5032495fd62e5a4cf9abbd8bcf3f95b3\",\"shared/components/course/spocCourseList/web/component.html\":\"37b50d653c0fc11d34673e930ce949b0\",\"shared/components/crumb/crumb.html\":\"db9cdfd9bff175178249a75e8f8c7670\",\"shared/components/custom-phone-bind-wrap/web/component.html\":\"a8c3941b073fd3b7ec8c9b6b989e61eb\",\"shared/components/discuss/discussWrap.html\":\"55bcf23250b56dc4bbd14527ee7bf53a\",\"shared/components/editor/editor.html\":\"63b554d44774c906cb76ffc4e185d03b\",\"shared/components/emailTips/component.html\":\"f4a692f8bfb7b2c480fbcd6e2c7f0771\",\"shared/components/empty/commonEmpty.html\":\"61d03bcbb9131efa935ad3c2cf139852\",\"shared/components/followModal/followModalBody/component.html\":\"9095306d63fe4cd4ba81c33d5b7a91b3\",\"shared/components/followModal/followModalBody/followModalUserBox/component.html\":\"9ee07a76f3caf298d5a8c150e883c78b\",\"shared/components/followModal/followModalHead/component.html\":\"9d9fc3e22dbba583dc2a43dfd6c550c1\",\"shared/components/followModal/followModalWrapper/component.html\":\"95adba04c69a6a57289003ace59f9efc\",\"shared/components/global-sticky-components/inquiry/component.html\":\"dd1e8da6f3ec6fae65952c968881c44c\",\"shared/components/hoverTip/hover.html\":\"fa7f2776a5c14d4930b07a512f995a29\",\"shared/components/mobile-modal/wap/component.html\":\"ccd8a50f6619220d44775a96cef352dd\",\"shared/components/recImg/component.html\":\"a640c527a59cbfd23b95980c5b7e21aa\",\"shared/components/recentLive/component.html\":\"c178aeed844f649d6b63b02feec73f39\",\"shared/components/recentPost/component.html\":\"813742de8f48cd215659415fef724490\",\"shared/components/resultView/resultView.html\":\"3defb42c4b858203fd68ac9efafa4294\",\"shared/components/searchAzBox/searchAzBox.html\":\"45e7dc903c9dc11c8b4e825fa376990e\",\"shared/components/selectTab/component.html\":\"27c8f47be79a1983ca02545b597de836\",\"shared/components/u-courseCard/component.html\":\"f859b2d0a66c125816cbfd798a630024\",\"shared/components/userInfoSideBar/component.html\":\"2be91ceca1e3085af2ba95c2bff5a052\",\"shared/components/userInfoTop/component.html\":\"7d610141ecca554afa0af3111dc07025\",\"shared/components/wechat-invoke-app-overlay/component.html\":\"af084342c20071a2d183117a140e5216\",\"shared/desktop/components/courseCard.html\":\"26b4600659ecfb619f775295cc7e5442\",\"shared/desktop/components/recomendCourseList.html\":\"d0f9e6b604052f800a31fbb4de746983\",\"shared/desktop/components/signActivity/component.html\":\"c4a9a209694bd7a43f238437b63de432\",\"shared/desktop/components/u-cateNav/component.html\":\"3bf37e27430171b99d46dcb3beb8284a\",\"shared/desktop/components/viewImage/component.html\":\"f8f2d110f1ad0fd8c0e1111ba5d58753\",\"shared/desktop/modules/commonutil/commonutil.html\":\"c714b4ee6bb611b3b639c32b76e2f7fd\",\"shared/mobile/components/mobile-modal/wap/component.html\":\"2f74e128075928fb7870beaf3d6a48e1\",\"shared/mobile/modules/commonutil/commonutil.html\":\"c7308df665f2c97f93491f75991999d3\",\"shared/modules/teacherCenter/index.html\":\"4894eca6e2f66c8617148d1ba7f40247\",\"spoc/cloud/schoolCloud/desktop/components/allCourses.html\":\"c5db9c135709cf3f38c0d8c35a1d87de\",\"spoc/cloud/schoolCloud/desktop/components/allSchools.html\":\"af59b9e3660c5683a0c15f7580ee77ac\",\"spoc/cloud/schoolCloud/desktop/components/applyCloudModal.html\":\"481da8a4e2053bd99d8196b0d621a675\",\"spoc/cloud/schoolCloud/desktop/components/applySuccessModal.html\":\"ff69ac031c9098ecf0b1f0a92b92d492\",\"spoc/cloud/schoolCloud/desktop/components/caseIntroPartnerUI.html\":\"b63a2a3be0b7600573d6168b771aa250\",\"spoc/cloud/schoolCloud/desktop/components/caseIntroSampleUI.html\":\"0fdaae632815821d1b7961dfd75c9abf\",\"spoc/cloud/schoolCloud/desktop/components/courseResCard.html\":\"2214c37601c9d7dc56c7cfe304a14911\",\"spoc/cloud/schoolCloud/desktop/components/courseResHeaderUI.html\":\"90c9ed893297b1f6dd4192750e0bc361\",\"spoc/cloud/schoolCloud/desktop/components/courseResTabUI.html\":\"766e2a2a8f3aa7893aa36e332fc6bce9\",\"spoc/cloud/schoolCloud/desktop/components/indexPage.html\":\"f62174f7d57d26a0e621dd4f3f8ac2fd\",\"spoc/cloud/schoolCloud/desktop/components/introUI.html\":\"a8b0433f71f0bf4582a3bb5676f410f3\",\"spoc/cloud/schoolCloud/desktop/components/recruitLesson.html\":\"522fa145361e69b656eb29d057dc09c6\",\"spoc/cloud/schoolCloud/desktop/components/schoolCloudIntro.html\":\"6cd9c5c02534a83b5470fd75cae125c6\",\"spoc/cloud/schoolCloud/desktop/modules/caseIntro/index.html\":\"40bd60328d519b4ce966f17747222138\",\"spoc/cloud/schoolCloud/desktop/modules/courseResource/index.html\":\"0c7ef7a0cb4f87e1ca5f76d6505a2aa5\",\"spoc/cloud/schoolCloud/desktop/modules/help/index.html\":\"c0aca75731513af62a6e066d4f3003c6\",\"spoc/cloud/schoolCloud/desktop/modules/index/index.html\":\"55176e976a80834d92e9dd8132c70e45\",\"spoc/index/desktop/modules/spocIndex/index.html\":\"7ba40761807164d3004d21f8f0116b94\",\"spoc/shared/components/directPurchaseModal.html\":\"9e5ebc18903e6ce9b5f893513a8368d5\",\"spoc/shared/components/identifyStudentModal.html\":\"d3cf1a31e53b23f3884369c24ebec56a\",\"spoc/shared/components/schoolUI.html\":\"947749c3afaf7d3d1f408edc427ab043\",\"spoc/university/detail/desktop/components/trialNotifyModal.html\":\"01f61c49c07a1364907ac52fc2ec3357\",\"spoc/university/detail/desktop/modules/universityCenter/index.html\":\"1a570b18844fa8e70094b273624e5474\",\"teacherPage/kaoyan/shared/components/boostingProgramPanel/wap/component.html\":\"d68d7572a7664897cba300927f040c80\",\"teacherPage/kaoyan/shared/components/boostingProgramPanel/web/component.html\":\"a62a14112ae7f910ea19e03c2fcbec37\",\"teacherPage/kaoyan/shared/components/coupon-card/web/component.html\":\"6d3c02d6e65261393c7c8f5744db5d27\",\"teacherPage/kaoyan/shared/components/kaoyanHeader/wap/component.html\":\"e124141e4b031d64cfce991474779315\",\"teacherPage/kaoyan/shared/components/kaoyanHeader/web/component.html\":\"f9db707a80fa7a6ffcc18d2dc11f639c\",\"teacherPage/kaoyan/shared/components/new-course-card/web/component.html\":\"d96b7173e67f5f7d8534d1d6015bb52e\",\"teacherPage/kaoyan/shared/components/new-course-panel/web/component.html\":\"8760a0c0f4daeb76d30265ee91d7c29b\",\"teacherPage/kaoyan/shared/components/teacherCouponPanel/web/component.html\":\"e96d8b25f23036d6aee2cdb249786fbd\",\"teacherPage/kaoyan/shared/components/teacherLivePanel/wap/component.html\":\"9fb2a1c777b96800cc2cab487d68004a\",\"teacherPage/kaoyan/shared/components/teacherLivePanel/web/component.html\":\"8a6a38abcbf986afc8764b1da51ef89a\",\"teacherPage/mooc/desktop/modules/course/index.html\":\"708915ad6eadcf48dac5665c04d66d64\",\"teacherPage/mooc/desktop/modules/discuss/index.html\":\"7047c1b8bf99d8f6efe7469a83dc876e\",\"teacherPage/mooc/desktop/modules/index/index.html\":\"6fc1e534afd1690a1460a798876fe934\",\"university/detail/desktop/modules/universityCenter/index.html\":\"17a5fbe8dc70fef4889be83e512a90d9\",\"user/setting/accountSetting/desktop/modules/accountSetting/index.html\":\"a373ef63ce8837db87215aebb86921cc\",\"user/setting/accountSetting/desktop/modules/mailSetting/index.html\":\"a21d3887922453fc9d824285b4930f60\",\"user/setting/personInfoEdit/desktop/modules/personInfoSetting/index.html\":\"fc168500ca3a45c2afd8ee3876735c31\",\"user/teacherCenterEdit/desktop/modules/teacherCenterEdit/index.html\":\"ba4dc029701921a7ac65c78416d0a27a\",\"vocation/all/desktop/modules/vocation/index.html\":\"2866be0b3de20854f896355fe2a2bb7d\"}};</script>\\n<script>\\nwindow.__phoneAccountFunctionalitiesSwitch = true;\\nvar $$$nativeWindowKeys = [\"postMessage\",\"blur\",\"focus\",\"close\",\"frames\",\"self\",\"window\",\"parent\",\"opener\",\"top\",\"length\",\"closed\",\"location\",\"document\",\"origin\",\"name\",\"history\",\"locationbar\",\"menubar\",\"personalbar\",\"scrollbars\",\"statusbar\",\"toolbar\",\"status\",\"frameElement\",\"navigator\",\"applicationCache\",\"customElements\",\"external\",\"screen\",\"innerWidth\",\"innerHeight\",\"scrollX\",\"pageXOffset\",\"scrollY\",\"pageYOffset\",\"screenX\",\"screenY\",\"outerWidth\",\"outerHeight\",\"devicePixelRatio\",\"clientInformation\",\"screenLeft\",\"screenTop\",\"defaultStatus\",\"defaultstatus\",\"styleMedia\",\"onanimationend\",\"onanimationiteration\",\"onanimationstart\",\"onsearch\",\"ontransitionend\",\"onwebkitanimationend\",\"onwebkitanimationiteration\",\"onwebkitanimationstart\",\"onwebkittransitionend\",\"isSecureContext\",\"onabort\",\"onblur\",\"oncancel\",\"oncanplay\",\"oncanplaythrough\",\"onchange\",\"onclick\",\"onclose\",\"oncontextmenu\",\"oncuechange\",\"ondblclick\",\"ondrag\",\"ondragend\",\"ondragenter\",\"ondragleave\",\"ondragover\",\"ondragstart\",\"ondrop\",\"ondurationchange\",\"onemptied\",\"onended\",\"onerror\",\"onfocus\",\"oninput\",\"oninvalid\",\"onkeydown\",\"onkeypress\",\"onkeyup\",\"onload\",\"onloadeddata\",\"onloadedmetadata\",\"onloadstart\",\"onmousedown\",\"onmouseenter\",\"onmouseleave\",\"onmousemove\",\"onmouseout\",\"onmouseover\",\"onmouseup\",\"onmousewheel\",\"onpause\",\"onplay\",\"onplaying\",\"onprogress\",\"onratechange\",\"onreset\",\"onresize\",\"onscroll\",\"onseeked\",\"onseeking\",\"onselect\",\"onstalled\",\"onsubmit\",\"onsuspend\",\"ontimeupdate\",\"ontoggle\",\"onvolumechange\",\"onwaiting\",\"onwheel\",\"ongotpointercapture\",\"onlostpointercapture\",\"onpointerdown\",\"onpointermove\",\"onpointerup\",\"onpointercancel\",\"onpointerover\",\"onpointerout\",\"onpointerenter\",\"onpointerleave\",\"onbeforeunload\",\"onhashchange\",\"onlanguagechange\",\"onmessage\",\"onmessageerror\",\"onoffline\",\"ononline\",\"onpagehide\",\"onpageshow\",\"onpopstate\",\"onrejectionhandled\",\"onstorage\",\"onunhandledrejection\",\"onunload\",\"performance\",\"stop\",\"open\",\"alert\",\"confirm\",\"prompt\",\"print\",\"requestAnimationFrame\",\"cancelAnimationFrame\",\"requestIdleCallback\",\"cancelIdleCallback\",\"captureEvents\",\"releaseEvents\",\"getComputedStyle\",\"matchMedia\",\"moveTo\",\"moveBy\",\"resizeTo\",\"resizeBy\",\"getSelection\",\"find\",\"getMatchedCSSRules\",\"webkitRequestAnimationFrame\",\"webkitCancelAnimationFrame\",\"btoa\",\"atob\",\"setTimeout\",\"clearTimeout\",\"setInterval\",\"clearInterval\",\"createImageBitmap\",\"scroll\",\"scrollTo\",\"scrollBy\",\"onappinstalled\",\"onbeforeinstallprompt\",\"caches\",\"crypto\",\"ondevicemotion\",\"ondeviceorientation\",\"ondeviceorientationabsolute\",\"indexedDB\",\"webkitStorageInfo\",\"sessionStorage\",\"localStorage\",\"fetch\",\"onauxclick\",\"visualViewport\",\"speechSynthesis\",\"webkitRequestFileSystem\",\"webkitResolveLocalFileSystemURL\",\"openDatabase\",\"chrome\", \\'__REGULAR_DEVTOOLS_GLOBAL_HOOK__\\', \\'$$$nativeWindowKeysCheckMap\\', \\'$$$nativeWindowKeys\\', \\'$$$globalErrors\\'];\\nvar $$$nativeWindowKeysCheckMap = {},\\ni = 0,\\nl = $$$nativeWindowKeys.length;\\nfor (; i < l; i++) {\\n$$$nativeWindowKeysCheckMap[$$$nativeWindowKeys[i]] = 1;\\n}\\nwindow.__globalErrorEvents = [];\\nfunction errorEventHandler(e) {\\nwindow.__globalErrorEvents.push(e);\\n}\\nfunction addEvent(el, ev, fn) {\\nif (el) {\\nif (el.addEventListener) {\\nel.addEventListener(ev, fn);\\n} else if (el.attachEvent) {\\nel.attachEvent(ev, fn);\\n}\\n}\\n}\\naddEvent(window, \\'error\\', errorEventHandler);\\ndelete window.addEvent;\\n</script>\\n<script onerror=\"javascript:window.errorEventHandler && window.errorEventHandler(event)\" src=\"//mc.stu.126.net/pub/s/libEs5Shim_5bbf31f93e60b15fb3bcb2ba8bdac626.js\"></script>\\n<script onerror=\"javascript:window.errorEventHandler && window.errorEventHandler(event)\" src=\"//mc.stu.126.net/pub/s/libEs6Shim_b1d0c40a89ec7748483661e8cf64e3ec.js\"></script>\\n<script onerror=\"javascript:window.errorEventHandler && window.errorEventHandler(event)\" src=\"//mc.stu.126.net/pub/s/libRegular_e3fc7f63ef5a597f84cc352c95c59683.js\"></script>\\n<script type=\"text/javascript\" src=\"//ursdoccdn.nosdn.127.net/webzj_cdn101/pathb_message_17011101.js\"></script>\\n<script type=\"text/javascript\" src=\"//acstatic-dun.126.net/tool.min.js\"></script>\\n<script>\\nwindow.gaProduct = \"mooc\";\\nwindow.urlPrefix = {\\nindexPrefix             : \"/\",\\nhomePrefix              : \"/home.htm\",\\nloginPrefix             : \"/member/login.htm\",\\nlogoutPrefix            : \"/passport/member/logout.htm\",\\nsearchPrefix            : \"/search.htm\",\\ncourseListPrefix        : \"/category/all\",\\nuniversityListPrefix    : \"/university/view/all.htm\",\\nuniversityPrefix        : \"/university/\",\\nuniversityPreviewPrefix : \"/university/preview/\",\\nvocationIndexPrefix     : \"/vemooc\",\\ncourseInfoPrefix        : \"/course/\",\\ncourseInfoPreviewPrefix : \"/course/preview/\",\\ncourseLearnPrefix       : \"/learn/\",\\ncourseLearnPreviewPrefix: \"/learn/preview/\",\\ncourseLearnReviewPrefix : \"/learn/review/\",\\nlearnForTeacherPrefix   : \"/learn/enroll/\",\\nspocMainPrefix          : \"/spoc/schoolcloud/index.htm\",\\nspocCourseInfoPrefix    : \"/spoc/course/\",\\nspocCourseLearnPrefix   : \"/spoc/learn/\",\\nspocUsityIdPrefix       : \"/spoc/university.htm?schoolId=\",\\nspocUniversityListPrefix      : \"/university/view/all.htm\",\\nspocUniversityPrefix       \\t  : \"/spoc/university/\",\\nspocUniversityPreviewPrefix   : \"/spoc/university/preview/\",\\nspocMemberPrefix       \\t\\t  : \"/spoc/u/\",\\nspocMemberPreviewPrefix       : \"/spoc/u/preview/\",\\nmemberPrefix            : \"/u/\",\\nmemberPreviewPrefix     : \"/u/preview/\",\\naddMemberInfoPrefix     : \"https://www.icourse163.org/member/addMemberInfo.htm\",\\npartnerSuperAdminPrefix : \"/partnerAdmin/superAdmin.htm\",\\npartnerEditorAdminPrefix: \"/partnerAdmin/editorAdmin.htm\",\\ncolumnistAdminPrefix    : \"/column/management/index.htm\",\\nadminManagerPrefix      : \"/collegeAdmin/schoolPanel.htm\",\\nadminTeacherPrefix      : \"/collegeAdmin/teacherPanel.htm\",\\ncoursecreatePrefix      : \"/collegeAdmin/courseCreate.htm\",\\nadminSetMessagePrefix   : \"/collegeAdmin/setMessage.htm\",\\nadminSettingPrefix      : \"/collegeAdmin/setting.htm\",\\nadminToolsPrefix        : \"/collegeAdmin/tools.htm\",\\ntermManagePrefix        : \"/collegeAdmin/termManage/\",\\nreviewQuizPrefix        : \"/review/quiz/{id}.htm\",\\nreviewHwPrefix          : \"/review/hw/\",\\nreviewTrainPrefix       : \"/review/train/\",\\nteacherMainEditPrefix   : \"/user/teacherMainEdit.htm\",\\npersonInfoSettingPrefix : \"/user/setting/personInfoEdit.htm\",\\naccountSettingPrefix    : \"/user/setting/accountSetting.htm\",\\nattachmentPrefix        : \"/homework/attachment.htm\",\\ntitleAttachmentPrefix   : \"/question/title/attachment.htm\",\\nnotSupportedPrefix      : \"/common/errors/notSupported.htm\",\\nhelpFrontPrefix         : \"/help/help.htm\",\\nhelpBackIndexPrefix     : \"/help/helpIndex.htm\",\\nhelpBackPrefix          : \"/help/manageHelp.htm\",\\nscholarship2017TeamPrefix           : \"/scholarship2017/team/team.htm\",\\naboutUsPrefix           : \"/about/aboutus.htm\",\\ncontactUsPrefix         : \"/about/contactus.htm\",\\ncertApplyPrefix         : \"/cert/apply.htm\",\\ncertDesignPrefix        : \"/cert/certDesign/{id}.htm\",\\nchargeCertDesignPrefix  : \"/cert/chargeCertDesign/{id}.htm\",\\npayOrderPrefix          : \"/pay/order.htm\",\\ndonateCoursePrefix      : \"/donate/course.htm\",\\ngetTextPrefix           : \"/resource/getText.htm\",\\ncdnReportPrefix\\t\\t\\t: \\'https://study.163.com/about/cdnReport.htm\\',\\nsnsOAuthPrefix          : \"/passport/sns/doOAuth.htm\",\\nursAuthorPrefix         : \"https://www.icourse163.org/member/ursLogin.htm\",\\nthirdBindCallbackHref   : \"https://www.icourse163.org/logingate/urs/bindCallback.htm\",\\nicourseAuthorPrefix     : \"https://www.icourse163.org/member/icourseLogin.htm\"\\n};\\nwindow.moocHost             = \"icourse163.org\";\\nwindow.moocHref             = \"https://www.icourse163.org\";\\nwindow.moocStaticHost       = \"mc.stu.126.net\";\\nwindow.callAppDownloadHref  = \"https://www.icourse163.org/client/callAppDownload.htm\";\\nwindow.NEJ_CONF = {\\nclipboard: \\'//mc.stu.126.net/res/swf/nej_clipboard.swf?0eba83544b107d7207d8936baab41283\\'\\n};\\n\\nwindow.serverTimeDiff = new Date().getTime() - 1540031122866;\\nwindow.currentPageName = \"home\";\\nwindow.imageUrlMap = {\\nloading_circle_gif:\"//mc.stu.126.net/res/images/ui/loading_circle.gif?00ef871b291bc03a497d608a5bd8ec99\",\\nshare_sprite:\"//mc.stu.126.net/res/images/ui/shareUI.png?e2653a364a790663aed6c6ece19fd83a\",\\nui_sprite:\"//mc.stu.126.net/res/images/ui/ui_sprite.png?5f7eedcf69b8a05d3ed53b4c1918de1c\",\\nforum_icon_sprite:\"//mc.stu.126.net/res/images/ui/forum_icon.png?b12539c2400cc76ad30262bdf7e12cbd\",\\nimage_upload_swf:\"//mc.stu.126.net/res/swf/imageUpload.swf?884965992b66cee07fb945929ac4b00f\",\\nimage_pdf_swf:\"//mc.stu.126.net/res/swf/pdfReader.swf?74ddf86a5d97e5af891638154a0989d1\",\\nimage_video_swf:\"//mc.stu.126.net/res/swf/moocPlayer.swf\",\\nimg_upd_select_swf:\"//mc.stu.126.net/res/swf/DragCutUpload_mooc.swf?ac94fb92d65cb0f12a93a8ca00fa3df9\",\\nimg_default_big_head:\"//edu-image.nosdn.127.net/457BE69DFFF1A6157EAF6D44EA2D8662.png?imageView&thumbnail=180y180&quality=100\",\\nimg_default_small_head:\"//mc.stu.126.net/res/images/common/headImg/small.jpg?06517f5e438da035a4016abd8e661d2f\",\\nimg_default_unviersity_1:\"//mc.stu.126.net/res/images/common/default/university1.png?55bbec907070a55ee4d333bc645445d1\",\\nimg_default_unviersity_2:\"//mc.stu.126.net/res/images/common/default/university2.png?a00032f80fa68a6ea6135ee8df9ed7a4\",\\nimg_default_unviersity_3:\"//mc.stu.126.net/res/images/common/default/university3.png?63f350451049f7803b014abab9408a4d\",\\nimg_default_unviersity_cert:\"//mc.stu.126.net/res/images/common/default/universityCert.png?4c209d5c5ebddc91e80fcf34795ddae1\",\\nimg_default_course:\"//mc.stu.126.net/res/images/common/default/course.jpg?2bc75b250fac482eabbcbc071b94abd4\",\\nimg_default_signature:\"//mc.stu.126.net/res/images/common/signature_example.png?a15f9c690bfd58771de32d5c483dea59\",\\nimg_step_score_mail:\"//mc.stu.126.net/res/images/common/step_score_mail.jpg?201e015a404c3c7aef85de694a4b6622\"\\n};\\nwindow.swfUrlMap = {\\nCloudPlayer:\"//mc.stu.126.net/res/swf/eduPlayer.swf?be877349a3014ffd45d3be0ba2633556\",\\ncloudPlayerUI:\"//mc.stu.126.net/res/swf/cloudPlayerUI.swf?83eaf96a4fa93df776e734c42d59ecc6\"\\n}\\nwindow.ursBasicConfig = {\\nproductkey : \\'a3b396bb2f589bbc1151f0fa61d14747\\',\\nproduct : \\'imooc\\',\\npromark : \\'cjJVGQM\\',\\n//product : \\'urs\\',\\n//promark : \\'RFYwJDP\\',\\n//productkey: \\'bcaddd8933a501880ebef6b951fe8f8a\\',\\nhost : \\'www.icourse163.org\\',\\ncookieDomain: \\'icourse163.org\\',\\nregCookieDomain : \\'icourse163.org\\',\\n};\\nwindow.URSLoginConfig = {\\nproduct : \\'imooc\\',\\nproductKey: \\'a3b396bb2f589bbc1151f0fa61d14747\\',\\npromark : \\'cjJVGQM\\',\\nhost : \\'www.icourse163.org\\',\\ncookieDomain : \\'icourse163.org\\',\\nskin : 3,\\npage : \\'login\\',\\nneedUnLogin : 1 ,\\ndefaultUnLogin:1,\\nplaceholder : {account:\\'\\xe5\\xb8\\xb8\\xe7\\x94\\xa8\\xe9\\x82\\xae\\xe7\\xae\\xb1\\xe6\\x88\\x96\\xe7\\xbd\\x91\\xe6\\x98\\x93\\xe9\\x82\\xae\\xe7\\xae\\xb1\\',pwd:\\'\\xe5\\xaf\\x86\\xe7\\xa0\\x81\\'},\\nneedPrepare: 1,\\nregUrl : \\'//zc.reg.163.com/regInitialized?pd=imooc&pkid=YeaYYzQ&pkht=www.icourse163.org\\',\\ncoverBackground : \"background:-webkit-radial-gradient(center,rgba(0,0,0,0.3),#000 75%);\",\\nsingle : 1,\\ncssDomain : \\'//cmc.stu.126.net/u/css/cms/\\',\\ncssFiles : \\'urs4moocweb.css\\',\\nframeSize : {\\'width\\':380,\\'height\\':282},\\nlogincb : function(cb){}\\n};\\n</script>\\n<script type=\"text/javascript\">\\nwindow.isMobilePhone = \"false\";\\nwindow.gaTrackPageview = \\'_trackPageview\\';\\nwindow.gaTrackEvent = \\'_trackEvent\\';\\nwindow.gaqStr = \\'_gaq\\';\\nwindow.m_shareUrl = \"\";\\nvar _ua = \\'UA-35176345-3\\';\\n// var _ua = \\'UA-35176345-8\\'; //fix http://jira.netease.com/browse/MOOC-3603\\nwindow._gaq = [];\\nwindow._gaq.push([\\'_setAccount\\', _ua],[\\'_setLocalGifPath\\', \\'/\\' + _ua + \\'/__utm.gif\\'],[\\'_setLocalRemoteServerMode\\']);\\nwindow._gaq.push([\\'_addOrganic\\', \\'m.baidu.com\\', \\'word\\']);\\nwindow._gaq.push([\\'_addOrganic\\', \\'soso\\', \\'search\\']);\\nwindow._gaq.push([\\'_addOrganic\\', \\'sogou\\', \\'query\\']);\\nwindow._gaq.push([\\'_addOrganic\\', \\'haosou\\', \\'q\\']);\\nwindow._gaq.push([\\'_addOrganic\\', \\'youdao\\', \\'q\\']);\\nwindow._gaq.push([\\'_addOrganic\\', \\'chinaso\\', \\'q\\']);\\nwindow._gaq.push([\\'_addOrganic\\', \\'zhongsou\\', \\'w\\']);\\nwindow._gaq.push([\\'_addOrganic\\', \\'m.sp.sm.cn\\', \\'w\\']);\\n(function() {\\nvar ga = document.createElement(\\'script\\'); ga.type = \\'text/javascript\\'; ga.async = true;\\nga.src = \\'//wr.da.netease.com/ga.js\\';\\nvar s = document.getElementsByTagName(\\'script\\')[0]; s.parentNode.insertBefore(ga, s);\\n})();\\n</script>\\n<!--[if lt IE 9]>\\n<script onerror=\"javascript:window.errorEventHandler && window.errorEventHandler(event)\" src=\"//mc.stu.126.net/pub/s/libH5Shiv_f4d9dea8e0ae8455500862bbb874d63c.js\"></script>\\n<![endif]-->\\n<script src=\"//hubble-js-bucket.nosdn.127.net/DATracker.sync.1.6.2.js\"></script>\\n<script>\\nDATracker.init(\\'MA-A976-948FFA05E931\\', {\\nuse_app_track: true,\\nheatmap: {\\nisTrackLink: true,\\ncollect_url: function() {\\n//\\xe4\\xbd\\xbf\\xe7\\x94\\xa8\\xe5\\x9c\\xba\\xe6\\x99\\xaf\\xe5\\xa6\\x82\\xef\\xbc\\x9a\\n//\\xe5\\xad\\xa6\\xe4\\xb9\\xa0\\xe9\\xa1\\xb5\\xe9\\x9d\\xa2\\xe4\\xb8\\x8d\\xe5\\x86\\x8d\\xe9\\x87\\x87\\xe9\\x9b\\x86\\nif(location.href.indexOf(\\'/learn/\\')>-1) {\\nreturn false;\\n}else{\\nreturn true\\n}\\n},\\n}\\n})\\n</script></head>\\n<link rel=\"stylesheet\" href=\"//mc.stu.126.net/pub/s/pt_web_home_3865c28e721e360d690fba36b9cfa47c.css\"/>\\n<body>\\n<div id=\"j-activityBanner\" class=\"f-dn ga-click\" data-cate=\"\\xe5\\xb0\\x8f\\xe9\\xbb\\x84\\xe6\\x9d\\xa1\" data-action=\"\\xe7\\x82\\xb9\\xe5\\x87\\xbb\" style=\"position:relative;z-index:300;\"></div>\\n<div id=\"j-activityRightBanner\" class=\"ga-click\" style=\"position:fixed;z-index:300;text-align:right;right: 16px;bottom:143px;\"></div>\\n<div id=\"j-appbanner\" style=\"position:relative;z-index:300;\"></div>\\n<div id=\"g-container\">\\n<div class=\"web-nav-container\">\\n<div class=\"m-navTop-func\">\\n<div class=\"m-navTop-func-i\">\\n<div class=\"u-navLogin-container\">\\n<div class=\"u-navLogin-logo new-nav-spoc-logo\">\\n<a href=\"//www.icourse163.org\" target=\"_top\">\\n<img width=\"190\" height=\"28\" src=\"//edu-image.nosdn.127.net/C0124E0336721FF65563B76A16A8143F.png?imageView&thumbnail=190y28&quality=100\">\\n</a>\\n</div>\\n<div class=\"e-hover-source u-navLogin-course\">\\n<a href=\"//www.icourse163.org/category/all\" target=\"_top\">\\n<span class=\"nav\">\\xe8\\xaf\\xbe\\xe7\\xa8\\x8b</span>\\n</a>\\n<div class=\"e-hover-target\">\\n<div class=\"e-hover-arrow\"></div>\\n<div class=\"e-hover-arrow-border\"></div>\\n<div class=\"e-hover-content\">\\n<div class=\"j-nav-CateBox u-cateBox-container\"></div>\\n</div>\\n</div>\\n</div>\\n<div class=\"u-navLogin-school\">\\n<a href=\"//www.icourse163.org/university/view/all.htm\" target=\"_top\">\\n<span class=\"nav\">\\xe5\\x90\\x8d\\xe6\\xa0\\xa1</span>\\n</a>\\n</div>\\n<div class=\"u-navLogin-discuss\">\\n<a href=\"//kaoyan.icourse163.org\" target=\"_top\">\\n<span class=\"nav\">2019\\xe8\\x80\\x83\\xe7\\xa0\\x94</span>\\n</a>\\n</div>\\n<div class=\" u-navLogin-cloud\">\\n<a href=\"//www.icourse163.org/spoc/schoolcloud/index.htm\" target=\"_blank\">\\n<span class=\"nav\">\\xe5\\xad\\xa6\\xe6\\xa0\\xa1\\xe4\\xba\\x91</span>\\n</a>\\n</div>\\n<div class=\"j-kaoyan-link u-navLogin-kaoyan\">\\n<a href=\"//www.icourse163.org/forum/1001974001.htm\" target=\"_blank\">\\n<span class=\"nav\">\\xe5\\xad\\xa6 \\xc2\\xb7 \\xe9\\x97\\xae</span>\\n</a>\\n</div>\\n<div class=\"j-latest-mark u-navLogin-mark f-f0 f-dn\">\\n<span>\\xe6\\x96\\xb0</span>\\n</div>\\n<div class=\"web-nav-right-part\">\\n<div class=\"u-navLogin-app\">\\n<img width=\"13\" height=\"21\" src=\"//edu-image.nosdn.127.net/03CC83FA97B35119DFB8C772754765CC.png?imageView&thumbnail=13y22&quality=100\">\\n</div>\\n<div class=\"e-hover-source u-navLogin-appText\">\\n<a href=\"//www.icourse163.org/mobile.htm?from=navibar&mobiletopbar=hidden\" target=\"_top\">\\n<span class=\"nav\">\\xe5\\xae\\xa2\\xe6\\x88\\xb7\\xe7\\xab\\xaf</span>\\n</a>\\n<div class=\"e-hover-target\">\\n<div class=\"e-hover-arrow\"></div>\\n<div class=\"e-hover-arrow-border\"></div>\\n<div class=\"e-hover-content\">\\n<div class=\"u-app-download-container\">\\n<div class=\"u-app-tip\">\\n<span>\\xe6\\x89\\xab\\xe7\\xa0\\x81\\xe4\\xb8\\x8b\\xe8\\xbd\\xbd\\xe5\\xae\\x98\\xe6\\x96\\xb9APP</span>\\n</div>\\n<div class=\"u-app-qrcode\">\\n<img width=\"140\" height=\"140\" src=\"//img-ph-mirror.nosdn.127.net/Rg6muO26iMOFWx9vwEHC-g==/6630234335885341999.png\">\\n</div>\\n<div class=\"u-app-iphone-link\">\\n<a href=\"//itunes.apple.com/cn/app/id977883304\" target=\"_blank\"></a>\\n</div>\\n<div class=\"u-app-android-link\">\\n<a href=\"//study.163.com/pub/ucmooc/ucmooc-android-official.apk\" target=\"_blank\"></a>\\n</div>\\n</div>\\n</div>\\n</div>\\n</div>\\n<div class=\"u-navLogin-searchFunc\">\\n<div class=\"u-navLogin-searchFunc-i\">\\n<div class=\"j-search-box u-search-container\">\\n<div class=\"j-input u-search-input\"></div>\\n<div class=\"u-search-icon\">\\n<span class=\"u-icon-search2 j-searchBtn\"></span>\\n</div>\\n</div>\\n</div>\\n</div>\\n<div class=\"u-navLogin-loginBox\">\\n<div class=\"u-navLogin-loginBox-i\">\\n<div class=\"m-navlinks\" id=\\'j-topnav\\'>\\n<div class=\"unlogin\">\\n<a class=\"f-f0 navLoginBtn\">\\xe7\\x99\\xbb\\xe5\\xbd\\x95<span class=\"huo\">&nbsp;&nbsp;|&nbsp;&nbsp;</span>\\xe6\\xb3\\xa8\\xe5\\x86\\x8c</a>\\n</div>\\n</div></div>\\n</div>\\n</div>\\n</div>\\n</div>\\n</div>\\n</div><div id=\"g-body\"><div id=\"j-self-content\" class=\" top-box f-f0\">\\n<img class=\"top-bac f-dn\" id=\"j-top-back\" width=\"100%\" height=\"220\" src=\"//edu-image.nosdn.127.net/BCA790F6E742B8CBF078CA413D2ED7AD.png?imageView&thumbnail=1920y220&quality=100\">\\n</div>\\n<div id=\"j-mailNotice\" class=\"p-tp-email\">\\n</div>\\n<div id=\"j-home-content\" class=\"home-content\"></div>\\n</div>\\n<div class=\"g-wrap m-foot f-pr\" id=\"j-footer\">\\n<div class=\"g-flow f-cb\">\\n<div class=\"f1 f-fl\">\\n<div class=\"logo\"></div>\\n<p class=\"f-fc14 f-fc9\">\\xe7\\x94\\xb1\\xe9\\xab\\x98\\xe6\\x95\\x99\\xe7\\xa4\\xbe\\xe8\\x81\\x94\\xe6\\x89\\x8b\\xe7\\xbd\\x91\\xe6\\x98\\x93\\xe6\\x8e\\xa8\\xe5\\x87\\xba\\xef\\xbc\\x8c\\xe8\\xae\\xa9\\xe6\\xaf\\x8f\\xe4\\xb8\\x80\\xe4\\xb8\\xaa\\xe6\\x9c\\x89\\xe6\\x8f\\x90\\xe5\\x8d\\x87\\xe6\\x84\\xbf\\xe6\\x9c\\x9b\\xe7\\x9a\\x84\\xe7\\x94\\xa8\\xe6\\x88\\xb7\\xe8\\x83\\xbd\\xe5\\xa4\\x9f\\xe5\\xad\\xa6\\xe5\\x88\\xb0\\xe4\\xb8\\xad\\xe5\\x9b\\xbd\\xe7\\x9f\\xa5\\xe5\\x90\\x8d\\xe9\\xab\\x98\\xe6\\xa0\\xa1\\xe7\\x9a\\x84\\xe8\\xaf\\xbe\\xe7\\xa8\\x8b\\xef\\xbc\\x8c\\xe5\\xb9\\xb6\\xe8\\x8e\\xb7\\xe5\\xbe\\x97\\xe8\\xae\\xa4\\xe8\\xaf\\x81\\xe3\\x80\\x82</p>\\n</div>\\n<div class=\"f4 f-fr f-pr\">\\n<h4 class=\"f-fcc\">\\xe5\\x8f\\x8b\\xe6\\x83\\x85\\xe9\\x93\\xbe\\xe6\\x8e\\xa5</h4>\\n<div class=\"f-cb\">\\n<a href=\"//kada.study.163.com/?inref=index_bottomlink\" target=\"_blank\" class=\"f-fc9 f4a\">\\xe7\\xbd\\x91\\xe6\\x98\\x93\\xe5\\x8d\\xa1\\xe6\\x90\\xad</a>\\n<a href=\"//study.163.com/\" target=\"_blank\" class=\"f-fc9 f4a\">\\xe7\\xbd\\x91\\xe6\\x98\\x93\\xe4\\xba\\x91\\xe8\\xaf\\xbe\\xe5\\xa0\\x82</a>\\n<a href=\"//100.163.com/\" target=\"_blank\" class=\"f-fc9 f4a\">\\xe7\\xbd\\x91\\xe6\\x98\\x93100\\xe5\\x88\\x86</a>\\n</div>\\n</div>\\n<div class=\"f3 f-fr f-pr\">\\n<h4 class=\"f-fcc\">\\xe5\\x85\\xb3\\xe6\\xb3\\xa8\\xe6\\x88\\x91\\xe4\\xbb\\xac</h4>\\n<div class=\"f-cb\">\\n<a class=\"f-icon f-fc9 u-icon-weixin weixin gzIc f-pr f-fl\">\\n<div class=\"tipQrcode f-pa\">\\n<div class=\"qrImag\">\\n<img src=\"//edu-image.nosdn.127.net/ceff46a7-e151-4a3a-b208-90e41721870c.jpg?imageView&thumbnail=860y860&quality=100\" width=\"120px\" height=\"120px\" alt=\"\\xe5\\x8a\\xa0\\xe4\\xb8\\xadM\\xe5\\xbe\\xae\\xe4\\xbf\\xa1\\xe5\\xa5\\xbd\\xe5\\x8f\\x8b\">\\n</div>\\n<div class=\"tip f-pa\"></div>\\n</div>\\n</a>\\n<a href=\"//weibo.com/icourse163\" target=\"_blank\" class=\"f-icon f-fc9 gzIc f-fs1 f-fl u-icon-weibo weibo\"></a>\\n</div>\\n</div>\\n<div class=\"f2 f-fr f-pr\">\\n<h4 class=\"f-fcc\">\\xe5\\x85\\xb3\\xe4\\xba\\x8e\\xe6\\x88\\x91\\xe4\\xbb\\xac</h4>\\n<div class=\"f-cb\">\\n<a href=\"/about/aboutus.htm\" target=\"_blank\" class=\"f-fc9 f2a\">\\xe5\\x85\\xb3\\xe4\\xba\\x8e\\xe6\\x88\\x91\\xe4\\xbb\\xac</a>\\n<a href=\"/spoc/schoolcloud/index.htm\" target=\"_blank\" class=\"f-fc9 f2a\">\\xe5\\xad\\xa6\\xe6\\xa0\\xa1\\xe4\\xba\\x91</a>\\n<a href=\"/about/contactus.htm#/contactus?type=2\" target=\"_blank\" class=\"f-fc9 f2a\">\\xe8\\x81\\x94\\xe7\\xb3\\xbb\\xe6\\x88\\x91\\xe4\\xbb\\xac</a>\\n<a href=\"/help/help.htm\" target=\"_blank\" class=\"f-fc9 f2a\">\\xe5\\xb8\\xb8\\xe8\\xa7\\x81\\xe9\\x97\\xae\\xe9\\xa2\\x98</a>\\n<a href=\"/about/contactus.htm#/contactus?type=4\" target=\"_blank\" class=\"f-fc9 f2a\">\\xe6\\x84\\x8f\\xe8\\xa7\\x81\\xe5\\x8f\\x8d\\xe9\\xa6\\x88</a>\\n<a href=\"/about/contactus.htm#/contactus?type=5\" target=\"_blank\" class=\"f-fc9 f2a\">\\xe6\\xb3\\x95\\xe5\\xbe\\x8b\\xe6\\x9d\\xa1\\xe6\\xac\\xbe</a>\\n</div>\\n</div>\\n</div>\\n<div class=\"beian\"><p class=\"f-fc12 f-fc6\"> <a class=\"f-fc6\" target=\"_blank\" href=\"//www.miitbeian.gov.cn/state/outPortal/loginPortal.action\">\\xe7\\xb2\\xa4B2-20090191-26</a> | \\xe4\\xba\\xacICP\\xe5\\xa4\\x8712020869\\xe5\\x8f\\xb7-2 | <a class=\"f-fc6\" target=\"_blank\" href=\"//www.beian.gov.cn/portal/registerSystemInfo?recordcode=44010602000207\">\\xe4\\xba\\xac\\xe5\\x85\\xac\\xe7\\xbd\\x91\\xe5\\xae\\x89\\xe5\\xa4\\x8744010602000207</a> <br>\\xc2\\xa92014-2018 icourse163.org </p></div>\\n</div>\\n</div>\\n<script>\\nwindow.isNeedFillMemberInfo = false;\\nif(!location.search && window.webUser){\\nlocation.search = \"?userId=\"+ window.webUser.id;\\n}\\n</script>\\n<script onerror=\"javascript:window.errorEventHandler && window.errorEventHandler(event)\" src=\"//mc.stu.126.net/pub/s/core_e648649a02d29c0f33bf051f9ad25de7.js\"></script>\\n<script onerror=\"javascript:window.errorEventHandler && window.errorEventHandler(event)\" src=\"//mc.stu.126.net/pub/s/pt_web_home_825fa0a4445abf32b38741286613dc93.js\"></script>\\n</body>\\n</html>'"
      ]
     },
     "execution_count": 6,
     "metadata": {},
     "output_type": "execute_result"
    }
   ],
   "source": [
    "r.content  # http响应内容的二进制形式"
   ]
  },
  {
   "cell_type": "code",
   "execution_count": 7,
   "metadata": {},
   "outputs": [],
   "source": [
    "r.raise_for_status()  # 如果状态不是200，引发httperror异常"
   ]
  },
  {
   "cell_type": "markdown",
   "metadata": {},
   "source": [
    "### 1.2通用代码框架："
   ]
  },
  {
   "cell_type": "code",
   "execution_count": 8,
   "metadata": {},
   "outputs": [
    {
     "name": "stdout",
     "output_type": "stream",
     "text": [
      "<html>\n",
      "<meta http-equiv=\"refresh\" content=\"0;url=http://www.baidu.com/\">\n",
      "</html>\n",
      "\n"
     ]
    }
   ],
   "source": [
    "import requests\n",
    "\n",
    "def getHtmlText(url):\n",
    "    try:\n",
    "        r = requests.get(url, timeout=30)\n",
    "        r.raise_for_status()  # 如果状态不是200，引发HTTPError异常\n",
    "        r.encoding = r.apparent_encoding  # 不论headers中是否要求编码格式，都从内容中找到实际编码格式，确保顺利解码\n",
    "        return r.text\n",
    "    except:\n",
    "        return '产生异常'\n",
    "if __name__ == \"__main__\":\n",
    "    url = \"http://baidu.com\"\n",
    "    print(getHtmlText(url))"
   ]
  },
  {
   "cell_type": "markdown",
   "metadata": {},
   "source": [
    "HTTP协议：  \n",
    "http格式：http://host[:port][path]  \n",
    "    host: 合法的Internet主机域名或IP地址  \n",
    "    port: 端口号，缺省端口为80  \n",
    "    path：请求资源的路径  "
   ]
  },
  {
   "cell_type": "markdown",
   "metadata": {},
   "source": [
    "## 1.3案例"
   ]
  },
  {
   "cell_type": "markdown",
   "metadata": {},
   "source": [
    "### 1.3.1京东商品"
   ]
  },
  {
   "cell_type": "code",
   "execution_count": 9,
   "metadata": {},
   "outputs": [
    {
     "data": {
      "text/plain": [
       "200"
      ]
     },
     "execution_count": 9,
     "metadata": {},
     "output_type": "execute_result"
    }
   ],
   "source": [
    "import requests\n",
    "r = requests.get('https://item.jd.com/8578888.html')\n",
    "r.status_code"
   ]
  },
  {
   "cell_type": "code",
   "execution_count": 10,
   "metadata": {},
   "outputs": [
    {
     "data": {
      "text/plain": [
       "'gbk'"
      ]
     },
     "execution_count": 10,
     "metadata": {},
     "output_type": "execute_result"
    }
   ],
   "source": [
    "r.encoding  # 发现编码格式可以识别汉字"
   ]
  },
  {
   "cell_type": "code",
   "execution_count": 11,
   "metadata": {},
   "outputs": [
    {
     "data": {
      "text/plain": [
       "'<!DOCTYPE HTML>\\n<html lang=\"zh-CN\">\\n<head>\\n    <!-- shouji -->\\n    <meta http-equiv=\"Content-Type\" content=\"text/html; charset=gbk\" />\\n    <title>【锤子 坚果 Pro 2S】锤子（smartisan ) 坚果 Pro 2S 6G+64GB 碳黑色（细红线版）全面屏双摄 全网通4G手机 双卡双待 游戏手机【行情 报价 价格 评测】-京东</title>\\n    <meta name=\"keywords\" content=\"smartisan 坚果 Pro 2S,锤子 坚果 Pro 2S,锤子 坚果 Pro 2S报价,smartisan 坚果 Pro 2S报价\"/>\\n    <meta name=\"description\" content=\"【锤子 坚果 Pro 2S】京东JD.COM提供锤子 坚果 Pro 2S正品行货，并包括smartisan 坚果 Pro 2S网购指南，以及锤子 坚果 Pro 2S图片、 坚果 Pro 2S参数、 坚果 Pr'"
      ]
     },
     "execution_count": 11,
     "metadata": {},
     "output_type": "execute_result"
    }
   ],
   "source": [
    "r.text[:500]"
   ]
  },
  {
   "cell_type": "code",
   "execution_count": 12,
   "metadata": {},
   "outputs": [
    {
     "name": "stdout",
     "output_type": "stream",
     "text": [
      "<!DOCTYPE HTML>\n",
      "<html lang=\"zh-CN\">\n",
      "<head>\n",
      "    <!-- shouji -->\n",
      "    <meta http-equiv=\"Content-Type\" content=\"text/html; charset=gbk\" />\n",
      "    <title>【锤子 坚果 Pro 2S】锤子（smartisan ) 坚果 Pro 2S 6G+64GB 碳黑色（细红线版）全面屏双摄 全网通4G手机 双卡双待 游戏手机【行情 报价 价格 评测】-京东</title>\n",
      "    <meta name=\"keywords\" content=\"smartisan 坚果 Pro 2S,锤子 坚果 Pro 2S,锤子 坚果 Pro 2S报价,smartisan 坚果 Pro 2S报价\"/>\n",
      "    <meta name=\"description\" content=\"【锤子 坚果 Pro 2S】京东JD.COM提供锤子 坚果 Pro 2S正品行货，并包括smartisan 坚果 Pro 2S网购指南，以及锤子 坚果 Pro 2S图片、 坚果 Pro 2S参数、 坚果 Pr\n"
     ]
    }
   ],
   "source": [
    "# 完整程序\n",
    "import requests\n",
    "url = \"https://item.jd.com/8578888.html\"\n",
    "try:\n",
    "    r = requests.get(url)\n",
    "    r.raise_for_status()\n",
    "    r.encoding = r.apparent_encoding\n",
    "    print(r.text[:500])\n",
    "except:\n",
    "    print(\"爬取失败\")"
   ]
  },
  {
   "cell_type": "markdown",
   "metadata": {},
   "source": [
    "### 1.3.2亚马逊页面商品"
   ]
  },
  {
   "cell_type": "code",
   "execution_count": 13,
   "metadata": {},
   "outputs": [
    {
     "name": "stdout",
     "output_type": "stream",
     "text": [
      "{'User-Agent': 'Mozilla/5.0 (Windows NT 6.1; WOW64) AppleWebKit/537.36 (KHTML, like Gecko) Chrome/39.0.2171.95 Safari/537.36 OPR/26.0.1656.60', 'Accept-Encoding': 'gzip, deflate', 'Accept': '*/*', 'Connection': 'keep-alive'}\n",
      "<!DOCTYPE html>\n",
      "<!--[if lt IE 7]> <html lang=\"zh-CN\" class=\"a-no-js a-lt-ie9 a-lt-ie8 a-lt-ie7\"> <![endif]-->\n",
      "<!--[if IE 7]>    <html lang=\"zh-CN\" class=\"a-no-js a-lt-ie9 a-lt-ie8\"> <![endif]-->\n",
      "<!--[if IE 8]>    <html lang=\"zh-CN\" class=\"a-no-js a-lt-ie9\"> <![endif]-->\n",
      "<!--[if gt IE 8]><!-->\n",
      "<html class=\"a-no-js\" lang=\"zh-CN\"><!--<![endif]--><head>\n",
      "<meta http-equiv=\"content-type\" content=\"text/html; charset=UTF-8\">\n",
      "<meta charset=\"utf-8\">\n",
      "<meta http-equiv=\"X-UA-Compatible\" content=\"IE=edge,chrom\n"
     ]
    }
   ],
   "source": [
    "# 模拟浏览器爬取信息\n",
    "import requests\n",
    "url = \"https://www.amazon.cn/dp/B074BNFY1H/ref=cngwdyfloorv2_recs_0?pf_rd_p=d0690322-dfc8-4e93-ac2c-8e2eeacbc49e&pf_rd_s=desktop-2&pf_rd_t=36701&pf_rd_i=desktop&pf_rd_m=A1AJ19PSB66TGU&pf_rd_r=2JDNVB7YD5ZF07YQSRQ6&pf_rd_r=2JDNVB7YD5ZF07YQSRQ6&pf_rd_p=d0690322-dfc8-4e93-ac2c-8e2eeacbc49e\"\n",
    "try:\n",
    "    headers = {\"User-Agent\": \"Mozilla/5.0 (Windows NT 6.1; WOW64) AppleWebKit/537.36 (KHTML, like Gecko) Chrome/39.0.2171.95 Safari/537.36 OPR/26.0.1656.60\"}\n",
    "    r = requests.get(url, headers = headers)\n",
    "    print(r.request.headers) # 起初发现503错误，因为亚马逊会限制爬虫，当使用爬虫时，会在头部显示request代理。因此用一个新的user-agent代替原来的\n",
    "    r.raise_for_status()\n",
    "    r.encoding = r.apparent_encoding\n",
    "    print(r.text[:500])\n",
    "except:\n",
    "    print(\"爬取失败\")"
   ]
  },
  {
   "cell_type": "markdown",
   "metadata": {},
   "source": [
    "### 1.3.3百度、360搜索关键词提交"
   ]
  },
  {
   "cell_type": "markdown",
   "metadata": {},
   "source": [
    "搜索引擎关键词提交接口：  \n",
    "百度关键词接口：  \n",
    "http://www.baidu.com/s?wd=keyword  \n",
    "360关键词接口：  \n",
    "http://www.so.com/s?q=keyword"
   ]
  },
  {
   "cell_type": "code",
   "execution_count": 14,
   "metadata": {},
   "outputs": [
    {
     "data": {
      "text/plain": [
       "200"
      ]
     },
     "execution_count": 14,
     "metadata": {},
     "output_type": "execute_result"
    }
   ],
   "source": [
    "import requests\n",
    "kv = {'wd': 'python'}\n",
    "r = requests.get(\"http://www.baidu.com/s\", params=kv)  # params可以向url中添加提交信息\n",
    "r.status_code"
   ]
  },
  {
   "cell_type": "code",
   "execution_count": 15,
   "metadata": {},
   "outputs": [
    {
     "data": {
      "text/plain": [
       "'http://www.baidu.com/s?wd=python'"
      ]
     },
     "execution_count": 15,
     "metadata": {},
     "output_type": "execute_result"
    }
   ],
   "source": [
    "r.request.url"
   ]
  },
  {
   "cell_type": "code",
   "execution_count": 16,
   "metadata": {},
   "outputs": [
    {
     "data": {
      "text/plain": [
       "'<!DOCTYPE html>\\n<!--STATUS OK-->\\n\\r\\n\\r\\n\\r\\n\\r\\n\\r\\n\\r\\n\\r\\n\\r\\n\\r\\n\\r\\n\\r\\n\\r\\n\\r\\n\\r\\n\\r\\n\\r\\n\\r\\n\\r\\n\\r\\n\\r\\n\\r\\n\\r\\n\\r\\n\\r\\n\\r\\n\\r\\n\\r\\n\\r\\n\\r\\n\\r\\n\\r\\n\\r\\n\\r\\n\\r\\n\\r\\n\\r\\n\\r\\n\\r\\n\\r\\n\\r\\n\\r\\n\\r\\n\\r\\n\\r\\n\\r\\n\\r\\n\\r\\n\\r\\n\\r\\n\\r\\n\\r\\n\\r\\n\\r\\n\\r\\n\\r\\n\\r\\n\\t\\r\\n\\r\\n\\r\\n\\r\\n\\r\\n\\r\\n\\r\\n\\r\\n\\r\\n\\r\\n\\r\\n\\r\\n\\r\\n\\n\\n\\n<html>\\n\\t<head>\\n\\t\\t\\n\\t\\t<meta http-equiv=\"X-UA-Compatible\" content=\"IE=edge,chrome=1\">\\n\\t\\t<meta http-equiv=\"content-type\" content=\"text/html;charset=utf-8\">\\n\\t\\t<meta content=\"always\" name=\"referrer\">\\n        <meta name=\"theme-color\" content=\"#2932e1\">\\n        <link rel=\"shortcut icon\" href=\"/favicon.ico\" type=\"image/x-icon\" />\\n        <link rel=\"icon\" sizes=\"any\" mask href=\"//www.baidu.com/img/baidu_85beaf5496f291521eb75ba38eacbd87.svg\">\\n        <link rel=\"search\" type=\"application/opensearchdescription+xml\" href=\"/content-search.xml\" title=\"百度搜索\" />\\n\\t\\t\\n\\t\\t\\n<title>python_百度搜索</title>\\n\\n\\t\\t\\n\\n\\t\\t\\n<style data-for=\"result\" type=\"text/css\" id=\"css_newi_result\">body{color:#333;background:#fff;padding:6px 0 0;margin:0;position:relative;min-width:900px}\\nbody,th,td,.p1,.p2{font-family:arial}\\np,form,ol,ul,li,dl,dt,dd,h3{margin:0;padd'"
      ]
     },
     "execution_count": 16,
     "metadata": {},
     "output_type": "execute_result"
    }
   ],
   "source": [
    "r.text[:1000]"
   ]
  },
  {
   "cell_type": "markdown",
   "metadata": {},
   "source": [
    "### 1.3.4网络图片的爬取与存储"
   ]
  },
  {
   "cell_type": "code",
   "execution_count": 17,
   "metadata": {},
   "outputs": [
    {
     "data": {
      "text/plain": [
       "200"
      ]
     },
     "execution_count": 17,
     "metadata": {},
     "output_type": "execute_result"
    }
   ],
   "source": [
    "import requests\n",
    "url = \"https://timgsa.baidu.com/timg?image&quality=80&size=b9999_10000&sec=1539447139510&di=87d435b71da26fd339657fa2d2386328&imgtype=0&src=http%3A%2F%2Fimg1.3lian.com%2F2015%2Fa1%2F136%2Fd%2F268.jpg\"\n",
    "r = requests.get(url)\n",
    "r.status_code"
   ]
  },
  {
   "cell_type": "code",
   "execution_count": 18,
   "metadata": {},
   "outputs": [],
   "source": [
    "with open('abc.jpg', 'wb') as f:\n",
    "    f.write(r.content)"
   ]
  },
  {
   "cell_type": "markdown",
   "metadata": {},
   "source": [
    "### 1.3.5IP地址归属地查询"
   ]
  },
  {
   "cell_type": "code",
   "execution_count": 19,
   "metadata": {},
   "outputs": [
    {
     "name": "stdout",
     "output_type": "stream",
     "text": [
      "200\n",
      ">→</font></b><a href=\"http://www.ip138.com/sj/\" target=\"_blank\">手机号码所在地区查询</a></td>\r\n",
      "\t\t<td width=\"177\"><b><font color=\"#008000\">→</font></b><a href=\"http://qq.ip138.com/weather/\" target=\"_blank\">天气预报-预报五天</a></td>\r\n",
      "\t</tr>\r\n",
      "\t<tr align=\"middle\">\r\n",
      "\t\t<td><b><font color=\"#008000\">→</font></b><a href=\"http://www.ip138.com/gb.htm\" target=\"_blank\">汉字简体繁体转换</a></td>\r\n",
      "\t\t<td><b><font color=\"#008000\">→</font></b><a href=\"http://www.ip138.com/jb.htm\" target=\"_blank\">国内国际机票查询</a></td>\r\n",
      "\t\t<td><b><font color=\"#\n"
     ]
    }
   ],
   "source": [
    "import requests\n",
    "url = \"http://www.ip138.com/ips138.asp?ip=\"\n",
    "r = requests.get(url + \"202.204.80.112\")\n",
    "r.encoding = r.apparent_encoding\n",
    "print(r.status_code)\n",
    "print(r.text[5000:5500])"
   ]
  },
  {
   "cell_type": "markdown",
   "metadata": {},
   "source": [
    "# 2网络爬虫之提取"
   ]
  },
  {
   "cell_type": "markdown",
   "metadata": {},
   "source": [
    "## 2.1BeautifulSoup库入门"
   ]
  },
  {
   "cell_type": "markdown",
   "metadata": {},
   "source": [
    "from bs4 import BeautifulSoup  \n",
    "soup = BeautifulSoup(\"P data /P\", 'html.parser')  \n",
    "beautifulsoup库默认将源码转换为utf8格式"
   ]
  },
  {
   "cell_type": "markdown",
   "metadata": {},
   "source": [
    "BeautifulSoup库解析器  \n",
    "bs4的HTML解析器：BeautifulSoup(mk, 'html.parser') 条件：安装bs4库  \n",
    "lxml的HTML解析器：BeautifulSoup(mk, 'lxml') 条件：pip install lxml  \n",
    "lxml的XML解析器：BeautifulSoup(mk, 'xml') 条件：pip install lxml  \n",
    "html5lib的解析器：BeautifulSoup(mk, 'html5lib') 条件：pip install html5lib"
   ]
  },
  {
   "cell_type": "markdown",
   "metadata": {},
   "source": [
    "基本元素\t说明  \n",
    "Tag\t   标签，最基本的信息组织单元，分别用<>和</>标明开头和结尾  \n",
    "Name\t标签的名字，< p>...< /p>的名字是‘p’，格式<tag>.name  \n",
    "Attributes\t标签的属性，字典组织形式，格式<tag>.attrs  \n",
    "NavigableString\t标签内非属性字符串，格式<tag>.string  \n",
    "Comment\t标签内字符串的注释部分，一种特殊的Comment类型  "
   ]
  },
  {
   "cell_type": "code",
   "execution_count": 20,
   "metadata": {},
   "outputs": [
    {
     "name": "stdout",
     "output_type": "stream",
     "text": [
      "<html><head><title>This is a python demo page</title></head>\r\n",
      "<body>\r\n",
      "<p class=\"title\"><b>The demo python introduces several python courses.</b></p>\r\n",
      "<p class=\"course\">Python is a wonderful general-purpose programming language. You can learn Python from novice to professional by tracking the following courses:\r\n",
      "<a href=\"http://www.icourse163.org/course/BIT-268001\" class=\"py1\" id=\"link1\">Basic Python</a> and <a href=\"http://www.icourse163.org/course/BIT-1001870001\" class=\"py2\" id=\"link2\">Advanced Python</a>.</p>\r\n",
      "</body></html>\n"
     ]
    }
   ],
   "source": [
    "import requests\n",
    "try:\n",
    "    r = requests.get(\"https://python123.io/ws/demo.html\")\n",
    "    txt = r.text\n",
    "    print(txt)\n",
    "except:\n",
    "    print(\"爬取失败\")"
   ]
  },
  {
   "cell_type": "code",
   "execution_count": 21,
   "metadata": {},
   "outputs": [
    {
     "name": "stdout",
     "output_type": "stream",
     "text": [
      "<html>\n",
      " <head>\n",
      "  <title>\n",
      "   This is a python demo page\n",
      "  </title>\n",
      " </head>\n",
      " <body>\n",
      "  <p class=\"title\">\n",
      "   <b>\n",
      "    The demo python introduces several python courses.\n",
      "   </b>\n",
      "  </p>\n",
      "  <p class=\"course\">\n",
      "   Python is a wonderful general-purpose programming language. You can learn Python from novice to professional by tracking the following courses:\n",
      "   <a class=\"py1\" href=\"http://www.icourse163.org/course/BIT-268001\" id=\"link1\">\n",
      "    Basic Python\n",
      "   </a>\n",
      "   and\n",
      "   <a class=\"py2\" href=\"http://www.icourse163.org/course/BIT-1001870001\" id=\"link2\">\n",
      "    Advanced Python\n",
      "   </a>\n",
      "   .\n",
      "  </p>\n",
      " </body>\n",
      "</html>\n"
     ]
    }
   ],
   "source": [
    "from bs4 import BeautifulSoup\n",
    "\n",
    "soup = BeautifulSoup(txt, \"html.parser\") # \"html.parser\"解析器\n",
    "print(soup.prettify())  # 标签友好输出"
   ]
  },
  {
   "cell_type": "code",
   "execution_count": 22,
   "metadata": {},
   "outputs": [
    {
     "data": {
      "text/plain": [
       "<title>This is a python demo page</title>"
      ]
     },
     "execution_count": 22,
     "metadata": {},
     "output_type": "execute_result"
    }
   ],
   "source": [
    "soup.title"
   ]
  },
  {
   "cell_type": "markdown",
   "metadata": {},
   "source": [
    "#### tag标签"
   ]
  },
  {
   "cell_type": "code",
   "execution_count": 23,
   "metadata": {},
   "outputs": [
    {
     "data": {
      "text/plain": [
       "<a class=\"py1\" href=\"http://www.icourse163.org/course/BIT-268001\" id=\"link1\">Basic Python</a>"
      ]
     },
     "execution_count": 23,
     "metadata": {},
     "output_type": "execute_result"
    }
   ],
   "source": [
    "tag = soup.a # 仅能获取第一个a标签\n",
    "tag"
   ]
  },
  {
   "cell_type": "markdown",
   "metadata": {},
   "source": [
    "#### name标签"
   ]
  },
  {
   "cell_type": "code",
   "execution_count": 24,
   "metadata": {},
   "outputs": [
    {
     "name": "stdout",
     "output_type": "stream",
     "text": [
      "a\n",
      "p\n",
      "body\n"
     ]
    }
   ],
   "source": [
    "print(soup.a.name)\n",
    "print(soup.a.parent.name)\n",
    "print(soup.a.parent.parent.name)"
   ]
  },
  {
   "cell_type": "markdown",
   "metadata": {},
   "source": [
    "#### Attributes(属性)标签"
   ]
  },
  {
   "cell_type": "code",
   "execution_count": 25,
   "metadata": {},
   "outputs": [
    {
     "data": {
      "text/plain": [
       "{'class': ['py1'],\n",
       " 'href': 'http://www.icourse163.org/course/BIT-268001',\n",
       " 'id': 'link1'}"
      ]
     },
     "execution_count": 25,
     "metadata": {},
     "output_type": "execute_result"
    }
   ],
   "source": [
    "tag = soup.a\n",
    "tag.attrs # 字典，可以使用字典的方式提取某个信息"
   ]
  },
  {
   "cell_type": "markdown",
   "metadata": {},
   "source": [
    "#### NavigableString"
   ]
  },
  {
   "cell_type": "code",
   "execution_count": 26,
   "metadata": {},
   "outputs": [
    {
     "data": {
      "text/plain": [
       "'Basic Python'"
      ]
     },
     "execution_count": 26,
     "metadata": {},
     "output_type": "execute_result"
    }
   ],
   "source": [
    "soup.a.string"
   ]
  },
  {
   "cell_type": "code",
   "execution_count": 27,
   "metadata": {},
   "outputs": [
    {
     "data": {
      "text/plain": [
       "<p class=\"title\"><b>The demo python introduces several python courses.</b></p>"
      ]
     },
     "execution_count": 27,
     "metadata": {},
     "output_type": "execute_result"
    }
   ],
   "source": [
    "soup.p"
   ]
  },
  {
   "cell_type": "code",
   "execution_count": 28,
   "metadata": {},
   "outputs": [
    {
     "data": {
      "text/plain": [
       "'The demo python introduces several python courses.'"
      ]
     },
     "execution_count": 28,
     "metadata": {},
     "output_type": "execute_result"
    }
   ],
   "source": [
    "soup.p.string"
   ]
  },
  {
   "cell_type": "markdown",
   "metadata": {},
   "source": [
    "#### Comment"
   ]
  },
  {
   "cell_type": "code",
   "execution_count": 29,
   "metadata": {},
   "outputs": [],
   "source": [
    "newsoup = BeautifulSoup(\"<b><!--this is a comment--></b><p>this is not a comment</p>\", \"html.parser\")"
   ]
  },
  {
   "cell_type": "code",
   "execution_count": 30,
   "metadata": {},
   "outputs": [
    {
     "data": {
      "text/plain": [
       "'this is a comment'"
      ]
     },
     "execution_count": 30,
     "metadata": {},
     "output_type": "execute_result"
    }
   ],
   "source": [
    "newsoup.b.string"
   ]
  },
  {
   "cell_type": "code",
   "execution_count": 31,
   "metadata": {},
   "outputs": [
    {
     "data": {
      "text/plain": [
       "bs4.element.Comment"
      ]
     },
     "execution_count": 31,
     "metadata": {},
     "output_type": "execute_result"
    }
   ],
   "source": [
    "type(newsoup.b.string)"
   ]
  },
  {
   "cell_type": "code",
   "execution_count": 32,
   "metadata": {},
   "outputs": [
    {
     "data": {
      "text/plain": [
       "'this is not a comment'"
      ]
     },
     "execution_count": 32,
     "metadata": {},
     "output_type": "execute_result"
    }
   ],
   "source": [
    "newsoup.p.string"
   ]
  },
  {
   "cell_type": "code",
   "execution_count": 33,
   "metadata": {},
   "outputs": [
    {
     "data": {
      "text/plain": [
       "bs4.element.NavigableString"
      ]
     },
     "execution_count": 33,
     "metadata": {},
     "output_type": "execute_result"
    }
   ],
   "source": [
    "type(newsoup.p.string)"
   ]
  },
  {
   "cell_type": "markdown",
   "metadata": {},
   "source": [
    "### 2.1.1标签树的遍历：下行遍历，上行遍历，平行遍历"
   ]
  },
  {
   "cell_type": "markdown",
   "metadata": {},
   "source": [
    "#### 下行遍历"
   ]
  },
  {
   "cell_type": "markdown",
   "metadata": {},
   "source": [
    ".content：子节点的列表。将《tag》所有儿子节点存入列表。  \n",
    ".children：子节点的迭代类型，与.content类似，用于循环遍历儿子节点。  \n",
    ".descendants：子孙节点的迭代类型，包含所有子孙节点，用于循环遍历。"
   ]
  },
  {
   "cell_type": "code",
   "execution_count": 34,
   "metadata": {},
   "outputs": [
    {
     "data": {
      "text/plain": [
       "<head><title>This is a python demo page</title></head>"
      ]
     },
     "execution_count": 34,
     "metadata": {},
     "output_type": "execute_result"
    }
   ],
   "source": [
    "soup.head"
   ]
  },
  {
   "cell_type": "code",
   "execution_count": 35,
   "metadata": {},
   "outputs": [
    {
     "data": {
      "text/plain": [
       "[<title>This is a python demo page</title>]"
      ]
     },
     "execution_count": 35,
     "metadata": {},
     "output_type": "execute_result"
    }
   ],
   "source": [
    "soup.head.contents # 儿子节点"
   ]
  },
  {
   "cell_type": "code",
   "execution_count": 36,
   "metadata": {},
   "outputs": [
    {
     "data": {
      "text/plain": [
       "['\\n',\n",
       " <p class=\"title\"><b>The demo python introduces several python courses.</b></p>,\n",
       " '\\n',\n",
       " <p class=\"course\">Python is a wonderful general-purpose programming language. You can learn Python from novice to professional by tracking the following courses:\n",
       " <a class=\"py1\" href=\"http://www.icourse163.org/course/BIT-268001\" id=\"link1\">Basic Python</a> and <a class=\"py2\" href=\"http://www.icourse163.org/course/BIT-1001870001\" id=\"link2\">Advanced Python</a>.</p>,\n",
       " '\\n']"
      ]
     },
     "execution_count": 36,
     "metadata": {},
     "output_type": "execute_result"
    }
   ],
   "source": [
    "soup.body.contents # 列表形式"
   ]
  },
  {
   "cell_type": "code",
   "execution_count": 37,
   "metadata": {},
   "outputs": [
    {
     "data": {
      "text/plain": [
       "5"
      ]
     },
     "execution_count": 37,
     "metadata": {},
     "output_type": "execute_result"
    }
   ],
   "source": [
    "len(soup.body.contents)  # 查看数量"
   ]
  },
  {
   "cell_type": "code",
   "execution_count": 38,
   "metadata": {},
   "outputs": [
    {
     "name": "stdout",
     "output_type": "stream",
     "text": [
      "\n",
      "\n",
      "<p class=\"title\"><b>The demo python introduces several python courses.</b></p>\n",
      "\n",
      "\n",
      "<p class=\"course\">Python is a wonderful general-purpose programming language. You can learn Python from novice to professional by tracking the following courses:\r\n",
      "<a class=\"py1\" href=\"http://www.icourse163.org/course/BIT-268001\" id=\"link1\">Basic Python</a> and <a class=\"py2\" href=\"http://www.icourse163.org/course/BIT-1001870001\" id=\"link2\">Advanced Python</a>.</p>\n",
      "\n",
      "\n"
     ]
    }
   ],
   "source": [
    "# 遍历儿子节点\n",
    "for child in soup.body.children:\n",
    "    print(child)"
   ]
  },
  {
   "cell_type": "markdown",
   "metadata": {},
   "source": [
    "#### 上行遍历"
   ]
  },
  {
   "cell_type": "markdown",
   "metadata": {},
   "source": [
    ".parent 节点的父亲标签  \n",
    ".parents 节点先辈标签的迭代类型，用于循环遍历先辈节点"
   ]
  },
  {
   "cell_type": "code",
   "execution_count": 39,
   "metadata": {},
   "outputs": [
    {
     "data": {
      "text/plain": [
       "<head><title>This is a python demo page</title></head>"
      ]
     },
     "execution_count": 39,
     "metadata": {},
     "output_type": "execute_result"
    }
   ],
   "source": [
    "soup.title.parent"
   ]
  },
  {
   "cell_type": "code",
   "execution_count": 40,
   "metadata": {},
   "outputs": [
    {
     "data": {
      "text/plain": [
       "<html><head><title>This is a python demo page</title></head>\n",
       "<body>\n",
       "<p class=\"title\"><b>The demo python introduces several python courses.</b></p>\n",
       "<p class=\"course\">Python is a wonderful general-purpose programming language. You can learn Python from novice to professional by tracking the following courses:\n",
       "<a class=\"py1\" href=\"http://www.icourse163.org/course/BIT-268001\" id=\"link1\">Basic Python</a> and <a class=\"py2\" href=\"http://www.icourse163.org/course/BIT-1001870001\" id=\"link2\">Advanced Python</a>.</p>\n",
       "</body></html>"
      ]
     },
     "execution_count": 40,
     "metadata": {},
     "output_type": "execute_result"
    }
   ],
   "source": [
    "soup.html.parent  # 由于html是最高级标签，所以他的父亲标签是他自己"
   ]
  },
  {
   "cell_type": "code",
   "execution_count": 41,
   "metadata": {},
   "outputs": [],
   "source": [
    "soup.parent # 为空"
   ]
  },
  {
   "cell_type": "code",
   "execution_count": 42,
   "metadata": {},
   "outputs": [
    {
     "name": "stdout",
     "output_type": "stream",
     "text": [
      "p\n",
      "body\n",
      "html\n",
      "[document]\n"
     ]
    }
   ],
   "source": [
    "# 上行遍历\n",
    "for parent in soup.a.parents:\n",
    "    if parent is None:\n",
    "        print(parent)\n",
    "    else:\n",
    "        print(parent.name)"
   ]
  },
  {
   "cell_type": "markdown",
   "metadata": {},
   "source": [
    "#### 平行遍历"
   ]
  },
  {
   "cell_type": "markdown",
   "metadata": {},
   "source": [
    "平行遍历发生在同一个父亲节点下"
   ]
  },
  {
   "cell_type": "markdown",
   "metadata": {},
   "source": [
    ".next_sibling 返回按照HTML文本顺序的下一个平行节点标签  \n",
    ".previous_sibling 返回按照HTML文本顺序的上一个平行节点标签  \n",
    ".next_siblings 迭代类型，返回按照HTML文本顺序的后续所有平行节点标签  \n",
    ".previous_sibling 迭代类型，返回按照HTML文本顺序的前续所有平行节点标签"
   ]
  },
  {
   "cell_type": "code",
   "execution_count": 43,
   "metadata": {},
   "outputs": [
    {
     "data": {
      "text/plain": [
       "' and '"
      ]
     },
     "execution_count": 43,
     "metadata": {},
     "output_type": "execute_result"
    }
   ],
   "source": [
    "soup.a.next_sibling"
   ]
  },
  {
   "cell_type": "code",
   "execution_count": 44,
   "metadata": {},
   "outputs": [
    {
     "data": {
      "text/plain": [
       "<a class=\"py2\" href=\"http://www.icourse163.org/course/BIT-1001870001\" id=\"link2\">Advanced Python</a>"
      ]
     },
     "execution_count": 44,
     "metadata": {},
     "output_type": "execute_result"
    }
   ],
   "source": [
    "soup.a.next_sibling.next_sibling"
   ]
  },
  {
   "cell_type": "code",
   "execution_count": 45,
   "metadata": {},
   "outputs": [
    {
     "name": "stdout",
     "output_type": "stream",
     "text": [
      " and \n",
      "<a class=\"py2\" href=\"http://www.icourse163.org/course/BIT-1001870001\" id=\"link2\">Advanced Python</a>\n",
      ".\n"
     ]
    }
   ],
   "source": [
    "# 平行标签的遍历\n",
    "for sibling in soup.a.next_siblings:\n",
    "    print(sibling)"
   ]
  },
  {
   "cell_type": "markdown",
   "metadata": {},
   "source": [
    "## 2.2信息组织与提取方法"
   ]
  },
  {
   "cell_type": "code",
   "execution_count": 46,
   "metadata": {},
   "outputs": [
    {
     "name": "stdout",
     "output_type": "stream",
     "text": [
      "http://www.icourse163.org/course/BIT-268001\n",
      "http://www.icourse163.org/course/BIT-1001870001\n"
     ]
    }
   ],
   "source": [
    "for link in soup.find_all('a'):  # 若要找到a和b标签，可以通过列表的格式作为第一参数，['a', 'b']\n",
    "    print(link.get('href'))"
   ]
  },
  {
   "cell_type": "code",
   "execution_count": 47,
   "metadata": {},
   "outputs": [
    {
     "name": "stdout",
     "output_type": "stream",
     "text": [
      "html\n",
      "head\n",
      "title\n",
      "body\n",
      "p\n",
      "b\n",
      "p\n",
      "a\n",
      "a\n"
     ]
    }
   ],
   "source": [
    "for tag in soup.find_all(True):\n",
    "    print(tag.name)  # 打印出所有的标签"
   ]
  },
  {
   "cell_type": "code",
   "execution_count": 48,
   "metadata": {},
   "outputs": [
    {
     "name": "stdout",
     "output_type": "stream",
     "text": [
      "body\n",
      "b\n"
     ]
    }
   ],
   "source": [
    "# 如果只要b开头的标签，可以借助正则表达式\n",
    "import re\n",
    "for tag in soup.find_all(re.compile('b')):\n",
    "    print(tag.name)"
   ]
  },
  {
   "cell_type": "markdown",
   "metadata": {},
   "source": [
    "find_all( name , attrs , recursive , text , **kwargs )  \n",
    "name 参数可以查找所有名字为 name 的tag,字符串对象会被自动忽略掉.  \n",
    "keyword 参数：如果一个指定名字的参数不是搜索内置的参数名,搜索时会把该参数当作指定名字tag的属性来搜索,如果包含一个名字为 id 的参数,Beautiful Soup会搜索每个tag的”id”属性.  \n",
    "传入正则表达式时re.compile('a')，将查找所有包含'a'的Tag  \n",
    "传入列表时，将查找所有包含列表中元素的Tag  \n",
    "text参数：通过 text 参数可以搜搜文档中的字符串内容.与 name 参数的可选值一样, text 参数接受 字符串 , 正则表达式 , 列表, True \n",
    "limit 参数：限制返回个数\n",
    "recursive 参数：指定为True时，搜索范围是子孙节点，如果设为False，只搜索子节点"
   ]
  },
  {
   "cell_type": "markdown",
   "metadata": {},
   "source": [
    "tag.find_all(..) == tag(..)  \n",
    "soup.find_all(..) == soup(..)"
   ]
  },
  {
   "cell_type": "markdown",
   "metadata": {},
   "source": [
    "## 2.3实例：中国大学排名爬虫"
   ]
  },
  {
   "cell_type": "markdown",
   "metadata": {},
   "source": [
    "功能描述：  \n",
    "输入：大学排名url链接  \n",
    "输出：大学排名信息的屏幕输出（排名，大学名称，总分）  \n",
    "技术路线：requests-bs4  \n",
    "定向爬虫：仅对输入url进行爬取，不扩展爬取"
   ]
  },
  {
   "cell_type": "code",
   "execution_count": 49,
   "metadata": {},
   "outputs": [
    {
     "name": "stdout",
     "output_type": "stream",
     "text": [
      "    排名    \t　　　学校名称　　　\t    总分    \n",
      "    1     \t　　　清华大学　　　\t   95.9   \n",
      "    2     \t　　　北京大学　　　\t   82.6   \n",
      "    3     \t　　　浙江大学　　　\t    80    \n",
      "    4     \t　　上海交通大学　　\t   78.7   \n",
      "    5     \t　　　复旦大学　　　\t   70.9   \n",
      "    6     \t　　　南京大学　　　\t   66.1   \n",
      "    7     \t　中国科学技术大学　\t   65.5   \n",
      "    8     \t　哈尔滨工业大学　　\t   63.5   \n",
      "    9     \t　　华中科技大学　　\t   62.9   \n",
      "    10    \t　　　中山大学　　　\t   62.1   \n",
      "    11    \t　　　东南大学　　　\t   61.4   \n",
      "    12    \t　　　天津大学　　　\t   60.8   \n",
      "    13    \t　　　同济大学　　　\t   59.8   \n",
      "    14    \t　北京航空航天大学　\t   59.6   \n",
      "    15    \t　　　四川大学　　　\t   59.4   \n",
      "    16    \t　　　武汉大学　　　\t   59.1   \n",
      "    17    \t　　西安交通大学　　\t   58.9   \n",
      "    18    \t　　　南开大学　　　\t   58.3   \n",
      "    19    \t　　大连理工大学　　\t   56.9   \n",
      "    20    \t　　　山东大学　　　\t   56.3   \n"
     ]
    }
   ],
   "source": [
    "import requests\n",
    "from bs4 import BeautifulSoup\n",
    "import bs4\n",
    "\n",
    "def getHtmlText(url):\n",
    "    try:\n",
    "        r = requests.get(url, timeout = 30)\n",
    "        r.raise_for_status()\n",
    "        r.encoding = r.apparent_encoding\n",
    "        return r.text\n",
    "    except:\n",
    "        return \"\"\n",
    "\n",
    "def fillUnivList(ulist, html):\n",
    "    soup = BeautifulSoup(html, \"html.parser\")\n",
    "    for tr in soup.find('tbody').children:\n",
    "        if isinstance(tr, bs4.element.Tag):\n",
    "            tds = tr.find_all('td')\n",
    "            ulist.append([tds[0].string, tds[1].string, tds[3].string])\n",
    "\n",
    "def printUnivList(ulist, num):\n",
    "    tplt = \"{0:^10}\\t{1:{3}^10}\\t{2:^10}\"  # 中间的{3}是指使用format中的第三个变量进行填充。也就是中文空格\n",
    "    print(tplt.format(\"排名\", \"学校名称\", \"总分\", chr(12288)))\n",
    "    for i in range(num):\n",
    "        u = ulist[i]\n",
    "        print(tplt.format(u[0], u[1], u[2], chr(12288)))\n",
    "    \n",
    "if __name__ == \"__main__\":\n",
    "    uinfo = []\n",
    "    url = \"http://www.zuihaodaxue.cn/zuihaodaxuepaiming2016.html\"\n",
    "    html = getHtmlText(url)\n",
    "    fillUnivList(uinfo, html)\n",
    "    printUnivList(uinfo, 20)  # 列出20所学校信息"
   ]
  },
  {
   "cell_type": "markdown",
   "metadata": {},
   "source": [
    "中文对齐问题解决：  \n",
    "当用format来输出时，当所给宽度不够，会以西文字符填充  \n",
    "采用中文字符的空格填充：chr(12288)"
   ]
  }
 ],
 "metadata": {
  "kernelspec": {
   "display_name": "Python 3",
   "language": "python",
   "name": "python3"
  },
  "language_info": {
   "codemirror_mode": {
    "name": "ipython",
    "version": 3
   },
   "file_extension": ".py",
   "mimetype": "text/x-python",
   "name": "python",
   "nbconvert_exporter": "python",
   "pygments_lexer": "ipython3",
   "version": "3.6.4"
  }
 },
 "nbformat": 4,
 "nbformat_minor": 2
}
