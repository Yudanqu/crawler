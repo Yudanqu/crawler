{
 "cells": [
  {
   "cell_type": "code",
   "execution_count": 1,
   "metadata": {},
   "outputs": [],
   "source": [
    "import requests\n",
    "from bs4 import BeautifulSoup\n",
    "import traceback\n",
    "import re"
   ]
  },
  {
   "cell_type": "code",
   "execution_count": null,
   "metadata": {},
   "outputs": [],
   "source": [
    "def getHtmlText(url):\n",
    "    try:\n",
    "        r = requests.get(url, timeout=30)\n",
    "        r.raise_for_status()\n",
    "        r.encoding = r.apparent_encoding\n",
    "        return r.text\n",
    "    except:\n",
    "        return\n",
    "\n",
    "def getStockList(lis, stockUrl):\n",
    "    html = getHtmlText(stockUrl)\n",
    "    soup = BeautifulSoup(html, \"html.parser\")\n",
    "    a = soup.find_all('a')\n",
    "    for i in a:\n",
    "        try:\n",
    "            href = i.attrs['href']\n",
    "            lis.append(re.find_all(r\"[s][hz]\\d{6}\", href)[0])\n",
    "        except:\n",
    "            continue\n",
    "\n",
    "def getStockInfo(lis, stockUrl, fpath):\n",
    "    count = 0\n",
    "    for stock in lis:\n",
    "        url = stockUrl + stock + \".html\"\n",
    "        html = getHtmlText(url)\n",
    "        try:\n",
    "            if html == \"\":\n",
    "                continue\n",
    "            infoDict = []\n",
    "            soup = BeautifulSoup(html, \"html.parser\")\n",
    "            stockInfo = soup.find('div', attrs={'class':'stock-bets'})\n",
    "\n",
    "            name = stockInfo.find_all(attrs={'class':'bets-name'})[0]\n",
    "            infoDict.update({'股票名称':name.text.split()[0]})\n",
    "            keyList = stockInfo.find_all('dt')\n",
    "            valueList = stockInfo.find_all('dd')\n",
    "            for i in range(len(keyList)):\n",
    "                key = keyList[i].text\n",
    "                val = valueList[i].text\n",
    "                infoDict[key] = val\n",
    "            with open(fpath, 'a', encoding='utf-8') as f:\n",
    "                f.write(str(infoDict) + '\\n')\n",
    "                count = count + 1\n",
    "                print('\\r当前进度:{:.2f}%'.format(count*100/len(lis)), end='')\n",
    "        except:\n",
    "            count = count + 1\n",
    "            print('\\r当前进度:{:.2f}%'.format(count*100/len(lis)), end='')\n",
    "            traceback.print_exc()\n",
    "            continue\n",
    "            \n",
    "            if __name__ == \"__main__\":\n",
    "    stock_list_url = \"https://quote.eastmoney.com/stocklist.html\"\n",
    "    stock_info_url = \"https://gupiao.baidu.com/stock/\"\n",
    "    output_file = \"baiduStockInfo.txt\"\n",
    "    slist = []\n",
    "    getStockList(slist, stock_list_url)\n",
    "    getStockInfo(slist, stock_info_url, output_file)"
   ]
  }
 ],
 "metadata": {
  "kernelspec": {
   "display_name": "Python 3",
   "language": "python",
   "name": "python3"
  },
  "language_info": {
   "codemirror_mode": {
    "name": "ipython",
    "version": 3
   },
   "file_extension": ".py",
   "mimetype": "text/x-python",
   "name": "python",
   "nbconvert_exporter": "python",
   "pygments_lexer": "ipython3",
   "version": "3.6.4"
  }
 },
 "nbformat": 4,
 "nbformat_minor": 2
}
